{
 "cells": [
  {
   "cell_type": "code",
   "execution_count": 1,
   "metadata": {},
   "outputs": [],
   "source": [
    "import pandas"
   ]
  },
  {
   "cell_type": "markdown",
   "metadata": {},
   "source": [
    "### The following two blocks of code are the exact same. The second is called method chaining."
   ]
  },
  {
   "cell_type": "code",
   "execution_count": 4,
   "metadata": {},
   "outputs": [
    {
     "data": {
      "text/html": [
       "<style  type=\"text/css\" >\n",
       "</style>  \n",
       "<table id=\"T_c162836a_025b_11e9_b451_60c547025496\" > \n",
       "<thead>    <tr> \n",
       "        <th class=\"index_name level0\" ></th> \n",
       "        <th class=\"col_heading level0 col0\" >Class 1</th> \n",
       "        <th class=\"col_heading level0 col1\" >Class 2</th> \n",
       "        <th class=\"col_heading level0 col2\" >Class 3</th> \n",
       "    </tr>    <tr> \n",
       "        <th class=\"index_name level0\" >Age</th> \n",
       "        <th class=\"blank\" ></th> \n",
       "        <th class=\"blank\" ></th> \n",
       "        <th class=\"blank\" ></th> \n",
       "    </tr></thead> \n",
       "<tbody>    <tr> \n",
       "        <th id=\"T_c162836a_025b_11e9_b451_60c547025496level0_row0\" class=\"row_heading level0 row0\" >Underage</th> \n",
       "        <td id=\"T_c162836a_025b_11e9_b451_60c547025496row0_col0\" class=\"data row0 col0\" >68.75%</td> \n",
       "        <td id=\"T_c162836a_025b_11e9_b451_60c547025496row0_col1\" class=\"data row0 col1\" >48.28%</td> \n",
       "        <td id=\"T_c162836a_025b_11e9_b451_60c547025496row0_col2\" class=\"data row0 col2\" >46.24%</td> \n",
       "    </tr>    <tr> \n",
       "        <th id=\"T_c162836a_025b_11e9_b451_60c547025496level0_row1\" class=\"row_heading level0 row1\" >Young</th> \n",
       "        <td id=\"T_c162836a_025b_11e9_b451_60c547025496row1_col0\" class=\"data row1 col0\" >51.06%</td> \n",
       "        <td id=\"T_c162836a_025b_11e9_b451_60c547025496row1_col1\" class=\"data row1 col1\" >42.73%</td> \n",
       "        <td id=\"T_c162836a_025b_11e9_b451_60c547025496row1_col2\" class=\"data row1 col2\" >22.62%</td> \n",
       "    </tr>    <tr> \n",
       "        <th id=\"T_c162836a_025b_11e9_b451_60c547025496level0_row2\" class=\"row_heading level0 row2\" >Experienced</th> \n",
       "        <td id=\"T_c162836a_025b_11e9_b451_60c547025496row2_col0\" class=\"data row2 col0\" >36.11%</td> \n",
       "        <td id=\"T_c162836a_025b_11e9_b451_60c547025496row2_col1\" class=\"data row2 col1\" >40.62%</td> \n",
       "        <td id=\"T_c162836a_025b_11e9_b451_60c547025496row2_col2\" class=\"data row2 col2\" >23.68%</td> \n",
       "    </tr></tbody> \n",
       "</table> "
      ],
      "text/plain": [
       "<pandas.io.formats.style.Styler at 0x1171a1e48>"
      ]
     },
     "execution_count": 4,
     "metadata": {},
     "output_type": "execute_result"
    }
   ],
   "source": [
    "df = pandas.read_csv('http://bit.ly/kaggletrain')  \n",
    "df = df[df.Age < df.Age.quantile(.99)]  \n",
    "df['Age'].fillna(df.Age.median(), inplace=True)  \n",
    "df['Age'] = pandas.cut(df['Age'],  \n",
    "                       bins=[df.Age.min(), 18, 40, df.Age.max()],\n",
    "                       labels=['Underage', 'Young', 'Experienced'])\n",
    "df['Sex'] = df['Sex'].replace({'female': 1, 'male': 0})  \n",
    "df = df.pivot_table(values='Sex', columns='Pclass', index='Age', aggfunc='mean')  \n",
    "df = df.rename_axis('', axis='columns')  \n",
    "df = df.rename('Class {}'.format, axis='columns')  \n",
    "df.style.format('{:.2%}')  "
   ]
  },
  {
   "cell_type": "code",
   "execution_count": 5,
   "metadata": {},
   "outputs": [
    {
     "data": {
      "text/html": [
       "<style  type=\"text/css\" >\n",
       "</style>  \n",
       "<table id=\"T_c1ffb874_025b_11e9_b451_60c547025496\" > \n",
       "<thead>    <tr> \n",
       "        <th class=\"index_name level0\" ></th> \n",
       "        <th class=\"col_heading level0 col0\" >Class 1</th> \n",
       "        <th class=\"col_heading level0 col1\" >Class 2</th> \n",
       "        <th class=\"col_heading level0 col2\" >Class 3</th> \n",
       "    </tr>    <tr> \n",
       "        <th class=\"index_name level0\" >Age</th> \n",
       "        <th class=\"blank\" ></th> \n",
       "        <th class=\"blank\" ></th> \n",
       "        <th class=\"blank\" ></th> \n",
       "    </tr></thead> \n",
       "<tbody>    <tr> \n",
       "        <th id=\"T_c1ffb874_025b_11e9_b451_60c547025496level0_row0\" class=\"row_heading level0 row0\" >Underage</th> \n",
       "        <td id=\"T_c1ffb874_025b_11e9_b451_60c547025496row0_col0\" class=\"data row0 col0\" >68.75%</td> \n",
       "        <td id=\"T_c1ffb874_025b_11e9_b451_60c547025496row0_col1\" class=\"data row0 col1\" >48.28%</td> \n",
       "        <td id=\"T_c1ffb874_025b_11e9_b451_60c547025496row0_col2\" class=\"data row0 col2\" >46.24%</td> \n",
       "    </tr>    <tr> \n",
       "        <th id=\"T_c1ffb874_025b_11e9_b451_60c547025496level0_row1\" class=\"row_heading level0 row1\" >Young</th> \n",
       "        <td id=\"T_c1ffb874_025b_11e9_b451_60c547025496row1_col0\" class=\"data row1 col0\" >51.06%</td> \n",
       "        <td id=\"T_c1ffb874_025b_11e9_b451_60c547025496row1_col1\" class=\"data row1 col1\" >42.73%</td> \n",
       "        <td id=\"T_c1ffb874_025b_11e9_b451_60c547025496row1_col2\" class=\"data row1 col2\" >22.62%</td> \n",
       "    </tr>    <tr> \n",
       "        <th id=\"T_c1ffb874_025b_11e9_b451_60c547025496level0_row2\" class=\"row_heading level0 row2\" >Experienced</th> \n",
       "        <td id=\"T_c1ffb874_025b_11e9_b451_60c547025496row2_col0\" class=\"data row2 col0\" >36.11%</td> \n",
       "        <td id=\"T_c1ffb874_025b_11e9_b451_60c547025496row2_col1\" class=\"data row2 col1\" >40.62%</td> \n",
       "        <td id=\"T_c1ffb874_025b_11e9_b451_60c547025496row2_col2\" class=\"data row2 col2\" >23.68%</td> \n",
       "    </tr></tbody> \n",
       "</table> "
      ],
      "text/plain": [
       "<pandas.io.formats.style.Styler at 0x1190b07f0>"
      ]
     },
     "execution_count": 5,
     "metadata": {},
     "output_type": "execute_result"
    }
   ],
   "source": [
    "(pandas.read_csv('http://bit.ly/kaggletrain')\n",
    "       .query('Age < Age.quantile(.99)')\n",
    "       .assign(Sex=lambda df: df['Sex'].replace({'female': 1, 'male': 0}),\n",
    "               Age=lambda df: pandas.cut(df['Age'].fillna(df.Age.median()),\n",
    "                                         bins=[df.Age.min(), 18, 40, df.Age.max()],\n",
    "                                         labels=['Underage', 'Young', 'Experienced']))\n",
    "       .pivot_table(values='Sex', columns='Pclass', index='Age', aggfunc='mean')\n",
    "       .rename_axis('', axis='columns')\n",
    "       .rename('Class {}'.format, axis='columns')\n",
    "       .style.format('{:.2%}'))"
   ]
  },
  {
   "cell_type": "code",
   "execution_count": null,
   "metadata": {},
   "outputs": [],
   "source": []
  }
 ],
 "metadata": {
  "kernelspec": {
   "display_name": "Python 3",
   "language": "python",
   "name": "python3"
  },
  "language_info": {
   "codemirror_mode": {
    "name": "ipython",
    "version": 3
   },
   "file_extension": ".py",
   "mimetype": "text/x-python",
   "name": "python",
   "nbconvert_exporter": "python",
   "pygments_lexer": "ipython3",
   "version": "3.7.0"
  }
 },
 "nbformat": 4,
 "nbformat_minor": 2
}
