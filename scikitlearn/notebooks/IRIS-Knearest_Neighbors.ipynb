{
 "cells": [
  {
   "cell_type": "markdown",
   "metadata": {},
   "source": [
    "Follow this website now:\n",
    "https://scikit-learn.org/stable/auto_examples/neighbors/plot_classification.html"
   ]
  },
  {
   "cell_type": "code",
   "execution_count": 1,
   "metadata": {},
   "outputs": [],
   "source": [
    "import pandas as pd\n",
    "\n",
    "import matplotlib.pyplot as plt\n",
    "%matplotlib inline"
   ]
  },
  {
   "cell_type": "markdown",
   "metadata": {},
   "source": [
    "## IRIS Dataset:\n",
    "- 50 samples of 3 different species of iris (150 samples total)\n",
    "- Measurements: sepal length, sepal width, petal length, petal width"
   ]
  },
  {
   "cell_type": "code",
   "execution_count": 2,
   "metadata": {},
   "outputs": [
    {
     "data": {
      "text/html": [
       "\n",
       "        <iframe\n",
       "            width=\"300\"\n",
       "            height=\"200\"\n",
       "            src=\"http://archive.ics.uci.edu/ml/machine-learning-databases/iris/iris.data\"\n",
       "            frameborder=\"0\"\n",
       "            allowfullscreen\n",
       "        ></iframe>\n",
       "        "
      ],
      "text/plain": [
       "<IPython.lib.display.IFrame at 0x1169177b8>"
      ]
     },
     "execution_count": 2,
     "metadata": {},
     "output_type": "execute_result"
    }
   ],
   "source": [
    "from IPython.display import IFrame\n",
    "IFrame('http://archive.ics.uci.edu/ml/machine-learning-databases/iris/iris.data', \n",
    "       width=300, height=200)"
   ]
  },
  {
   "cell_type": "code",
   "execution_count": 3,
   "metadata": {},
   "outputs": [],
   "source": [
    "# READ DATA INTO A PANDAS DATAFRAME\n",
    "data = pd.read_csv('http://archive.ics.uci.edu/ml/machine-learning-databases/iris/iris.data',\n",
    "                   header=None)"
   ]
  },
  {
   "cell_type": "code",
   "execution_count": 4,
   "metadata": {},
   "outputs": [
    {
     "data": {
      "text/plain": [
       "(150, 5)"
      ]
     },
     "execution_count": 4,
     "metadata": {},
     "output_type": "execute_result"
    }
   ],
   "source": [
    "data.shape"
   ]
  },
  {
   "cell_type": "code",
   "execution_count": 5,
   "metadata": {},
   "outputs": [
    {
     "data": {
      "text/html": [
       "<div>\n",
       "<style scoped>\n",
       "    .dataframe tbody tr th:only-of-type {\n",
       "        vertical-align: middle;\n",
       "    }\n",
       "\n",
       "    .dataframe tbody tr th {\n",
       "        vertical-align: top;\n",
       "    }\n",
       "\n",
       "    .dataframe thead th {\n",
       "        text-align: right;\n",
       "    }\n",
       "</style>\n",
       "<table border=\"1\" class=\"dataframe\">\n",
       "  <thead>\n",
       "    <tr style=\"text-align: right;\">\n",
       "      <th></th>\n",
       "      <th>0</th>\n",
       "      <th>1</th>\n",
       "      <th>2</th>\n",
       "      <th>3</th>\n",
       "      <th>4</th>\n",
       "    </tr>\n",
       "  </thead>\n",
       "  <tbody>\n",
       "    <tr>\n",
       "      <th>0</th>\n",
       "      <td>5.1</td>\n",
       "      <td>3.5</td>\n",
       "      <td>1.4</td>\n",
       "      <td>0.2</td>\n",
       "      <td>Iris-setosa</td>\n",
       "    </tr>\n",
       "    <tr>\n",
       "      <th>1</th>\n",
       "      <td>4.9</td>\n",
       "      <td>3.0</td>\n",
       "      <td>1.4</td>\n",
       "      <td>0.2</td>\n",
       "      <td>Iris-setosa</td>\n",
       "    </tr>\n",
       "    <tr>\n",
       "      <th>2</th>\n",
       "      <td>4.7</td>\n",
       "      <td>3.2</td>\n",
       "      <td>1.3</td>\n",
       "      <td>0.2</td>\n",
       "      <td>Iris-setosa</td>\n",
       "    </tr>\n",
       "    <tr>\n",
       "      <th>3</th>\n",
       "      <td>4.6</td>\n",
       "      <td>3.1</td>\n",
       "      <td>1.5</td>\n",
       "      <td>0.2</td>\n",
       "      <td>Iris-setosa</td>\n",
       "    </tr>\n",
       "    <tr>\n",
       "      <th>4</th>\n",
       "      <td>5.0</td>\n",
       "      <td>3.6</td>\n",
       "      <td>1.4</td>\n",
       "      <td>0.2</td>\n",
       "      <td>Iris-setosa</td>\n",
       "    </tr>\n",
       "  </tbody>\n",
       "</table>\n",
       "</div>"
      ],
      "text/plain": [
       "     0    1    2    3            4\n",
       "0  5.1  3.5  1.4  0.2  Iris-setosa\n",
       "1  4.9  3.0  1.4  0.2  Iris-setosa\n",
       "2  4.7  3.2  1.3  0.2  Iris-setosa\n",
       "3  4.6  3.1  1.5  0.2  Iris-setosa\n",
       "4  5.0  3.6  1.4  0.2  Iris-setosa"
      ]
     },
     "execution_count": 5,
     "metadata": {},
     "output_type": "execute_result"
    }
   ],
   "source": [
    "data.head()"
   ]
  },
  {
   "cell_type": "code",
   "execution_count": 6,
   "metadata": {},
   "outputs": [],
   "source": [
    "colnames = ['sepal_length', 'sepal_width', 'petal_length', 'petal_width', 'species']\n",
    "\n",
    "data.columns = colnames"
   ]
  },
  {
   "cell_type": "code",
   "execution_count": 8,
   "metadata": {},
   "outputs": [
    {
     "data": {
      "text/html": [
       "<div>\n",
       "<style scoped>\n",
       "    .dataframe tbody tr th:only-of-type {\n",
       "        vertical-align: middle;\n",
       "    }\n",
       "\n",
       "    .dataframe tbody tr th {\n",
       "        vertical-align: top;\n",
       "    }\n",
       "\n",
       "    .dataframe thead th {\n",
       "        text-align: right;\n",
       "    }\n",
       "</style>\n",
       "<table border=\"1\" class=\"dataframe\">\n",
       "  <thead>\n",
       "    <tr style=\"text-align: right;\">\n",
       "      <th></th>\n",
       "      <th>sepal_length</th>\n",
       "      <th>sepal_width</th>\n",
       "      <th>petal_length</th>\n",
       "      <th>petal_width</th>\n",
       "      <th>species</th>\n",
       "    </tr>\n",
       "  </thead>\n",
       "  <tbody>\n",
       "    <tr>\n",
       "      <th>0</th>\n",
       "      <td>5.1</td>\n",
       "      <td>3.5</td>\n",
       "      <td>1.4</td>\n",
       "      <td>0.2</td>\n",
       "      <td>Iris-setosa</td>\n",
       "    </tr>\n",
       "    <tr>\n",
       "      <th>1</th>\n",
       "      <td>4.9</td>\n",
       "      <td>3.0</td>\n",
       "      <td>1.4</td>\n",
       "      <td>0.2</td>\n",
       "      <td>Iris-setosa</td>\n",
       "    </tr>\n",
       "    <tr>\n",
       "      <th>2</th>\n",
       "      <td>4.7</td>\n",
       "      <td>3.2</td>\n",
       "      <td>1.3</td>\n",
       "      <td>0.2</td>\n",
       "      <td>Iris-setosa</td>\n",
       "    </tr>\n",
       "    <tr>\n",
       "      <th>3</th>\n",
       "      <td>4.6</td>\n",
       "      <td>3.1</td>\n",
       "      <td>1.5</td>\n",
       "      <td>0.2</td>\n",
       "      <td>Iris-setosa</td>\n",
       "    </tr>\n",
       "    <tr>\n",
       "      <th>4</th>\n",
       "      <td>5.0</td>\n",
       "      <td>3.6</td>\n",
       "      <td>1.4</td>\n",
       "      <td>0.2</td>\n",
       "      <td>Iris-setosa</td>\n",
       "    </tr>\n",
       "  </tbody>\n",
       "</table>\n",
       "</div>"
      ],
      "text/plain": [
       "   sepal_length  sepal_width  petal_length  petal_width      species\n",
       "0           5.1          3.5           1.4          0.2  Iris-setosa\n",
       "1           4.9          3.0           1.4          0.2  Iris-setosa\n",
       "2           4.7          3.2           1.3          0.2  Iris-setosa\n",
       "3           4.6          3.1           1.5          0.2  Iris-setosa\n",
       "4           5.0          3.6           1.4          0.2  Iris-setosa"
      ]
     },
     "execution_count": 8,
     "metadata": {},
     "output_type": "execute_result"
    }
   ],
   "source": [
    "data.head()"
   ]
  },
  {
   "cell_type": "code",
   "execution_count": 9,
   "metadata": {},
   "outputs": [
    {
     "data": {
      "text/plain": [
       "Iris-setosa        50\n",
       "Iris-virginica     50\n",
       "Iris-versicolor    50\n",
       "Name: species, dtype: int64"
      ]
     },
     "execution_count": 9,
     "metadata": {},
     "output_type": "execute_result"
    }
   ],
   "source": [
    "data.species.value_counts()"
   ]
  },
  {
   "cell_type": "markdown",
   "metadata": {},
   "source": [
    "#### *** Machine learning algorithms don't take names in feature or respone data matrices or arrays. Must use numbers to represent the species. "
   ]
  },
  {
   "cell_type": "code",
   "execution_count": 10,
   "metadata": {},
   "outputs": [],
   "source": [
    "# ASSIGN A NUMBER TO EACH UNIQUE SPECIES. WILL USE THESE NUMBERS INSTEAD OF NAMES.\n",
    "data['Species'] = data['species'].map( {'Iris-setosa': 0, \n",
    "                                        'Iris-versicolor': 1, \n",
    "                                        'Iris-virginica': 2} ).astype(int)"
   ]
  },
  {
   "cell_type": "code",
   "execution_count": 11,
   "metadata": {},
   "outputs": [
    {
     "data": {
      "text/plain": [
       "2    50\n",
       "1    50\n",
       "0    50\n",
       "Name: Species, dtype: int64"
      ]
     },
     "execution_count": 11,
     "metadata": {},
     "output_type": "execute_result"
    }
   ],
   "source": [
    "data.Species.value_counts()"
   ]
  },
  {
   "cell_type": "markdown",
   "metadata": {},
   "source": [
    "---"
   ]
  },
  {
   "cell_type": "markdown",
   "metadata": {},
   "source": [
    "# MODEL TRAINING DATA:\n",
    "    X - all the data in columns sepal_length through petal_width\n",
    "    y - 0s, 1s, and 2s from the Species column. Defines species. \n",
    "    \n",
    "We will train a model with this data so that it can correctly predict the species of an Iris based on its measurements of sepal lenght, sepal width, petal length, and petal width. "
   ]
  },
  {
   "cell_type": "code",
   "execution_count": 12,
   "metadata": {},
   "outputs": [],
   "source": [
    "# X is training data set - matrix\n",
    "X = data.loc[:,'sepal_length':'petal_width']\n",
    "# y is the response vector - array\n",
    "y = data.loc[:, 'Species']"
   ]
  },
  {
   "cell_type": "code",
   "execution_count": 13,
   "metadata": {},
   "outputs": [
    {
     "data": {
      "text/html": [
       "<div>\n",
       "<style scoped>\n",
       "    .dataframe tbody tr th:only-of-type {\n",
       "        vertical-align: middle;\n",
       "    }\n",
       "\n",
       "    .dataframe tbody tr th {\n",
       "        vertical-align: top;\n",
       "    }\n",
       "\n",
       "    .dataframe thead th {\n",
       "        text-align: right;\n",
       "    }\n",
       "</style>\n",
       "<table border=\"1\" class=\"dataframe\">\n",
       "  <thead>\n",
       "    <tr style=\"text-align: right;\">\n",
       "      <th></th>\n",
       "      <th>sepal_length</th>\n",
       "      <th>sepal_width</th>\n",
       "      <th>petal_length</th>\n",
       "      <th>petal_width</th>\n",
       "    </tr>\n",
       "  </thead>\n",
       "  <tbody>\n",
       "    <tr>\n",
       "      <th>0</th>\n",
       "      <td>5.1</td>\n",
       "      <td>3.5</td>\n",
       "      <td>1.4</td>\n",
       "      <td>0.2</td>\n",
       "    </tr>\n",
       "    <tr>\n",
       "      <th>1</th>\n",
       "      <td>4.9</td>\n",
       "      <td>3.0</td>\n",
       "      <td>1.4</td>\n",
       "      <td>0.2</td>\n",
       "    </tr>\n",
       "    <tr>\n",
       "      <th>2</th>\n",
       "      <td>4.7</td>\n",
       "      <td>3.2</td>\n",
       "      <td>1.3</td>\n",
       "      <td>0.2</td>\n",
       "    </tr>\n",
       "    <tr>\n",
       "      <th>3</th>\n",
       "      <td>4.6</td>\n",
       "      <td>3.1</td>\n",
       "      <td>1.5</td>\n",
       "      <td>0.2</td>\n",
       "    </tr>\n",
       "    <tr>\n",
       "      <th>4</th>\n",
       "      <td>5.0</td>\n",
       "      <td>3.6</td>\n",
       "      <td>1.4</td>\n",
       "      <td>0.2</td>\n",
       "    </tr>\n",
       "  </tbody>\n",
       "</table>\n",
       "</div>"
      ],
      "text/plain": [
       "   sepal_length  sepal_width  petal_length  petal_width\n",
       "0           5.1          3.5           1.4          0.2\n",
       "1           4.9          3.0           1.4          0.2\n",
       "2           4.7          3.2           1.3          0.2\n",
       "3           4.6          3.1           1.5          0.2\n",
       "4           5.0          3.6           1.4          0.2"
      ]
     },
     "execution_count": 13,
     "metadata": {},
     "output_type": "execute_result"
    }
   ],
   "source": [
    "X.head()"
   ]
  },
  {
   "cell_type": "code",
   "execution_count": 14,
   "metadata": {},
   "outputs": [
    {
     "data": {
      "text/plain": [
       "0    0\n",
       "1    0\n",
       "2    0\n",
       "3    0\n",
       "4    0\n",
       "Name: Species, dtype: int64"
      ]
     },
     "execution_count": 14,
     "metadata": {},
     "output_type": "execute_result"
    }
   ],
   "source": [
    "y.head()"
   ]
  },
  {
   "cell_type": "code",
   "execution_count": 15,
   "metadata": {},
   "outputs": [
    {
     "name": "stdout",
     "output_type": "stream",
     "text": [
      "(150, 4)\n",
      "(150,)\n"
     ]
    },
    {
     "data": {
      "text/plain": [
       "(None, None)"
      ]
     },
     "execution_count": 15,
     "metadata": {},
     "output_type": "execute_result"
    }
   ],
   "source": [
    "print(X.shape), print(y.shape)"
   ]
  },
  {
   "cell_type": "markdown",
   "metadata": {},
   "source": [
    "---\n",
    "---"
   ]
  },
  {
   "cell_type": "markdown",
   "metadata": {},
   "source": [
    "# 1. Nearest Neighbors Classification\n",
    "\n",
    "Documentation: https://scikit-learn.org/stable/modules/neighbors.html#nearest-neighbors-classification\n",
    "\n",
    "The first example we will provide is for Nearest Neighbors Classification. \n",
    "\n",
    "* The k-neighbors classification in KNeighborsClassifier is the most commonly used technique. The optimal choice of the value k is highly data-dependent: in general a larger k suppresses the effects of noise, but makes the classification boundaries less distinct."
   ]
  },
  {
   "cell_type": "code",
   "execution_count": 16,
   "metadata": {},
   "outputs": [],
   "source": [
    "from sklearn.neighbors import KNeighborsClassifier"
   ]
  },
  {
   "cell_type": "code",
   "execution_count": 17,
   "metadata": {},
   "outputs": [],
   "source": [
    "knn = KNeighborsClassifier(n_neighbors=1)"
   ]
  },
  {
   "cell_type": "code",
   "execution_count": 18,
   "metadata": {},
   "outputs": [
    {
     "data": {
      "text/plain": [
       "KNeighborsClassifier(algorithm='auto', leaf_size=30, metric='minkowski',\n",
       "           metric_params=None, n_jobs=1, n_neighbors=1, p=2,\n",
       "           weights='uniform')"
      ]
     },
     "execution_count": 18,
     "metadata": {},
     "output_type": "execute_result"
    }
   ],
   "source": [
    "knn"
   ]
  },
  {
   "cell_type": "code",
   "execution_count": 19,
   "metadata": {},
   "outputs": [
    {
     "data": {
      "text/plain": [
       "KNeighborsClassifier(algorithm='auto', leaf_size=30, metric='minkowski',\n",
       "           metric_params=None, n_jobs=1, n_neighbors=1, p=2,\n",
       "           weights='uniform')"
      ]
     },
     "execution_count": 19,
     "metadata": {},
     "output_type": "execute_result"
    }
   ],
   "source": [
    "knn.fit(X, y)"
   ]
  },
  {
   "cell_type": "markdown",
   "metadata": {},
   "source": [
    "   "
   ]
  },
  {
   "cell_type": "markdown",
   "metadata": {},
   "source": [
    "predict the species based on a measurement"
   ]
  },
  {
   "cell_type": "code",
   "execution_count": 20,
   "metadata": {},
   "outputs": [
    {
     "data": {
      "text/plain": [
       "array([2])"
      ]
     },
     "execution_count": 20,
     "metadata": {},
     "output_type": "execute_result"
    }
   ],
   "source": [
    "knn.predict([[3, 5, 4, 2]])"
   ]
  },
  {
   "cell_type": "code",
   "execution_count": 21,
   "metadata": {},
   "outputs": [
    {
     "data": {
      "text/plain": [
       "array([0])"
      ]
     },
     "execution_count": 21,
     "metadata": {},
     "output_type": "execute_result"
    }
   ],
   "source": [
    "knn.predict([[5, 4, 1.3, .2]])"
   ]
  },
  {
   "cell_type": "code",
   "execution_count": 22,
   "metadata": {},
   "outputs": [
    {
     "data": {
      "text/plain": [
       "array([1])"
      ]
     },
     "execution_count": 22,
     "metadata": {},
     "output_type": "execute_result"
    }
   ],
   "source": [
    "knn.predict([[6, 4, 5, 1]])"
   ]
  },
  {
   "cell_type": "code",
   "execution_count": 23,
   "metadata": {},
   "outputs": [
    {
     "data": {
      "text/plain": [
       "array([0, 1, 2])"
      ]
     },
     "execution_count": 23,
     "metadata": {},
     "output_type": "execute_result"
    }
   ],
   "source": [
    "knn.classes_"
   ]
  },
  {
   "cell_type": "code",
   "execution_count": 24,
   "metadata": {},
   "outputs": [
    {
     "data": {
      "text/plain": [
       "array([2, 1, 1])"
      ]
     },
     "execution_count": 24,
     "metadata": {},
     "output_type": "execute_result"
    }
   ],
   "source": [
    "# Can predict multiple observations at once\n",
    "knn.predict([[3, 5, 4, 2], [5, 4, 3, 2], [6, 4, 5, 1]])"
   ]
  },
  {
   "cell_type": "markdown",
   "metadata": {},
   "source": [
    "### using a different number for k neighbors"
   ]
  },
  {
   "cell_type": "code",
   "execution_count": 25,
   "metadata": {},
   "outputs": [],
   "source": [
    "# using a different number for k neighbors\n",
    "knn = KNeighborsClassifier(n_neighbors=5)"
   ]
  },
  {
   "cell_type": "code",
   "execution_count": 26,
   "metadata": {},
   "outputs": [
    {
     "data": {
      "text/plain": [
       "KNeighborsClassifier(algorithm='auto', leaf_size=30, metric='minkowski',\n",
       "           metric_params=None, n_jobs=1, n_neighbors=5, p=2,\n",
       "           weights='uniform')"
      ]
     },
     "execution_count": 26,
     "metadata": {},
     "output_type": "execute_result"
    }
   ],
   "source": [
    "knn"
   ]
  },
  {
   "cell_type": "code",
   "execution_count": 27,
   "metadata": {},
   "outputs": [
    {
     "data": {
      "text/plain": [
       "KNeighborsClassifier(algorithm='auto', leaf_size=30, metric='minkowski',\n",
       "           metric_params=None, n_jobs=1, n_neighbors=5, p=2,\n",
       "           weights='uniform')"
      ]
     },
     "execution_count": 27,
     "metadata": {},
     "output_type": "execute_result"
    }
   ],
   "source": [
    "knn.fit(X, y)"
   ]
  },
  {
   "cell_type": "code",
   "execution_count": 28,
   "metadata": {},
   "outputs": [
    {
     "data": {
      "text/plain": [
       "array([1, 1, 1])"
      ]
     },
     "execution_count": 28,
     "metadata": {},
     "output_type": "execute_result"
    }
   ],
   "source": [
    "knn.predict([[3, 5, 4, 2], [5, 4, 3, 2], [6, 4, 5, 1]])"
   ]
  },
  {
   "cell_type": "code",
   "execution_count": 29,
   "metadata": {},
   "outputs": [
    {
     "data": {
      "text/plain": [
       "5"
      ]
     },
     "execution_count": 29,
     "metadata": {},
     "output_type": "execute_result"
    }
   ],
   "source": [
    "knn.n_neighbors"
   ]
  },
  {
   "cell_type": "code",
   "execution_count": 30,
   "metadata": {},
   "outputs": [
    {
     "data": {
      "text/plain": [
       "<150x150 sparse matrix of type '<class 'numpy.float64'>'\n",
       "\twith 750 stored elements in Compressed Sparse Row format>"
      ]
     },
     "execution_count": 30,
     "metadata": {},
     "output_type": "execute_result"
    }
   ],
   "source": [
    "knn.kneighbors_graph(X)"
   ]
  },
  {
   "cell_type": "raw",
   "metadata": {},
   "source": [
    "Signature: knn.kneighbors(X=None, n_neighbors=None, return_distance=True)\n",
    "Docstring:\n",
    "Finds the K-neighbors of a point.\n",
    "\n",
    "Returns indices of and distances to the neighbors of each point.\n"
   ]
  },
  {
   "cell_type": "code",
   "execution_count": 31,
   "metadata": {},
   "outputs": [],
   "source": [
    "?knn.kneighbors"
   ]
  },
  {
   "cell_type": "code",
   "execution_count": 32,
   "metadata": {},
   "outputs": [],
   "source": [
    "distances, indices = knn.kneighbors(X)"
   ]
  },
  {
   "cell_type": "code",
   "execution_count": 33,
   "metadata": {
    "scrolled": true
   },
   "outputs": [
    {
     "data": {
      "text/plain": [
       "array([[0.        , 0.1       , 0.14142136, 0.14142136, 0.14142136],\n",
       "       [0.        , 0.14142136, 0.14142136, 0.17320508, 0.17320508],\n",
       "       [0.        , 0.14142136, 0.24494897, 0.26457513, 0.26457513],\n",
       "       [0.        , 0.14142136, 0.17320508, 0.2236068 , 0.24494897],\n",
       "       [0.        , 0.14142136, 0.17320508, 0.17320508, 0.2236068 ],\n",
       "       [0.        , 0.33166248, 0.34641016, 0.36055513, 0.37416574],\n",
       "       [0.        , 0.2236068 , 0.26457513, 0.3       , 0.31622777],\n",
       "       [0.        , 0.1       , 0.14142136, 0.17320508, 0.2       ],\n",
       "       [0.        , 0.14142136, 0.3       , 0.31622777, 0.34641016],\n",
       "       [0.        , 0.        , 0.        , 0.17320508, 0.17320508],\n",
       "       [0.        , 0.1       , 0.28284271, 0.3       , 0.33166248],\n",
       "       [0.        , 0.2236068 , 0.2236068 , 0.28284271, 0.3       ],\n",
       "       [0.        , 0.14142136, 0.17320508, 0.17320508, 0.17320508],\n",
       "       [0.        , 0.24494897, 0.31622777, 0.34641016, 0.47958315],\n",
       "       [0.        , 0.41231056, 0.46904158, 0.54772256, 0.55677644],\n",
       "       [0.        , 0.36055513, 0.54772256, 0.6164414 , 0.6164414 ],\n",
       "       [0.        , 0.34641016, 0.36055513, 0.38729833, 0.38729833],\n",
       "       [0.        , 0.1       , 0.14142136, 0.17320508, 0.17320508],\n",
       "       [0.        , 0.33166248, 0.38729833, 0.46904158, 0.50990195],\n",
       "       [0.        , 0.14142136, 0.14142136, 0.24494897, 0.26457513],\n",
       "       [0.        , 0.28284271, 0.3       , 0.36055513, 0.36055513],\n",
       "       [0.        , 0.14142136, 0.24494897, 0.24494897, 0.26457513],\n",
       "       [0.        , 0.45825757, 0.50990195, 0.51961524, 0.53851648],\n",
       "       [0.        , 0.2       , 0.26457513, 0.37416574, 0.38729833],\n",
       "       [0.        , 0.3       , 0.37416574, 0.41231056, 0.42426407],\n",
       "       [0.        , 0.2       , 0.2       , 0.2       , 0.2236068 ],\n",
       "       [0.        , 0.2       , 0.2236068 , 0.2236068 , 0.24494897],\n",
       "       [0.        , 0.14142136, 0.14142136, 0.14142136, 0.17320508],\n",
       "       [0.        , 0.14142136, 0.14142136, 0.14142136, 0.17320508],\n",
       "       [0.        , 0.14142136, 0.17320508, 0.2236068 , 0.2236068 ],\n",
       "       [0.        , 0.14142136, 0.17320508, 0.17320508, 0.17320508],\n",
       "       [0.        , 0.28284271, 0.3       , 0.3       , 0.31622777],\n",
       "       [0.        , 0.34641016, 0.34641016, 0.37416574, 0.42426407],\n",
       "       [0.        , 0.34641016, 0.36055513, 0.38729833, 0.41231056],\n",
       "       [0.        , 0.        , 0.        , 0.17320508, 0.17320508],\n",
       "       [0.        , 0.2236068 , 0.3       , 0.31622777, 0.33166248],\n",
       "       [0.        , 0.3       , 0.31622777, 0.33166248, 0.34641016],\n",
       "       [0.        , 0.        , 0.        , 0.17320508, 0.17320508],\n",
       "       [0.        , 0.14142136, 0.2       , 0.24494897, 0.3       ],\n",
       "       [0.        , 0.1       , 0.14142136, 0.14142136, 0.14142136],\n",
       "       [0.        , 0.14142136, 0.17320508, 0.17320508, 0.24494897],\n",
       "       [0.        , 0.6244998 , 0.71414284, 0.76811457, 0.78102497],\n",
       "       [0.        , 0.2       , 0.2236068 , 0.3       , 0.3       ],\n",
       "       [0.        , 0.2236068 , 0.26457513, 0.31622777, 0.37416574],\n",
       "       [0.        , 0.36055513, 0.37416574, 0.41231056, 0.41231056],\n",
       "       [0.        , 0.14142136, 0.2       , 0.24494897, 0.26457513],\n",
       "       [0.        , 0.14142136, 0.24494897, 0.24494897, 0.3       ],\n",
       "       [0.        , 0.14142136, 0.14142136, 0.2236068 , 0.2236068 ],\n",
       "       [0.        , 0.1       , 0.2236068 , 0.24494897, 0.24494897],\n",
       "       [0.        , 0.14142136, 0.17320508, 0.2236068 , 0.2236068 ],\n",
       "       [0.        , 0.26457513, 0.33166248, 0.43588989, 0.45825757],\n",
       "       [0.        , 0.26457513, 0.31622777, 0.34641016, 0.37416574],\n",
       "       [0.        , 0.26457513, 0.28284271, 0.31622777, 0.34641016],\n",
       "       [0.        , 0.2       , 0.3       , 0.31622777, 0.43588989],\n",
       "       [0.        , 0.24494897, 0.31622777, 0.37416574, 0.37416574],\n",
       "       [0.        , 0.3       , 0.31622777, 0.31622777, 0.33166248],\n",
       "       [0.        , 0.26457513, 0.37416574, 0.42426407, 0.45825757],\n",
       "       [0.        , 0.14142136, 0.38729833, 0.45825757, 0.72111026],\n",
       "       [0.        , 0.24494897, 0.24494897, 0.31622777, 0.31622777],\n",
       "       [0.        , 0.38729833, 0.50990195, 0.51961524, 0.52915026],\n",
       "       [0.        , 0.36055513, 0.45825757, 0.67082039, 0.71414284],\n",
       "       [0.        , 0.3       , 0.33166248, 0.36055513, 0.36055513],\n",
       "       [0.        , 0.48989795, 0.51961524, 0.54772256, 0.58309519],\n",
       "       [0.        , 0.14142136, 0.2236068 , 0.24494897, 0.42426407],\n",
       "       [0.        , 0.42426407, 0.4472136 , 0.50990195, 0.51961524],\n",
       "       [0.        , 0.14142136, 0.31622777, 0.31622777, 0.34641016],\n",
       "       [0.        , 0.2       , 0.3       , 0.38729833, 0.41231056],\n",
       "       [0.        , 0.24494897, 0.28284271, 0.33166248, 0.36055513],\n",
       "       [0.        , 0.26457513, 0.50990195, 0.53851648, 0.678233  ],\n",
       "       [0.        , 0.17320508, 0.24494897, 0.26457513, 0.26457513],\n",
       "       [0.        , 0.2236068 , 0.3       , 0.36055513, 0.42426407],\n",
       "       [0.        , 0.33166248, 0.34641016, 0.37416574, 0.4       ],\n",
       "       [0.        , 0.36055513, 0.36055513, 0.41231056, 0.42426407],\n",
       "       [0.        , 0.2236068 , 0.3       , 0.38729833, 0.43588989],\n",
       "       [0.        , 0.2       , 0.26457513, 0.36055513, 0.38729833],\n",
       "       [0.        , 0.14142136, 0.24494897, 0.26457513, 0.31622777],\n",
       "       [0.        , 0.31622777, 0.34641016, 0.34641016, 0.37416574],\n",
       "       [0.        , 0.31622777, 0.37416574, 0.41231056, 0.42426407],\n",
       "       [0.        , 0.2       , 0.24494897, 0.33166248, 0.34641016],\n",
       "       [0.        , 0.34641016, 0.42426407, 0.43588989, 0.4472136 ],\n",
       "       [0.        , 0.14142136, 0.17320508, 0.3       , 0.3       ],\n",
       "       [0.        , 0.14142136, 0.26457513, 0.34641016, 0.43588989],\n",
       "       [0.        , 0.14142136, 0.26457513, 0.28284271, 0.3       ],\n",
       "       [0.        , 0.33166248, 0.36055513, 0.36055513, 0.37416574],\n",
       "       [0.        , 0.2       , 0.41231056, 0.47958315, 0.48989795],\n",
       "       [0.        , 0.37416574, 0.42426407, 0.45825757, 0.46904158],\n",
       "       [0.        , 0.28284271, 0.31622777, 0.31622777, 0.33166248],\n",
       "       [0.        , 0.26457513, 0.57445626, 0.59160798, 0.60827625],\n",
       "       [0.        , 0.17320508, 0.17320508, 0.2236068 , 0.31622777],\n",
       "       [0.        , 0.2       , 0.24494897, 0.3       , 0.3       ],\n",
       "       [0.        , 0.26457513, 0.31622777, 0.42426407, 0.42426407],\n",
       "       [0.        , 0.14142136, 0.2       , 0.3       , 0.34641016],\n",
       "       [0.        , 0.14142136, 0.24494897, 0.26457513, 0.26457513],\n",
       "       [0.        , 0.14142136, 0.36055513, 0.38729833, 0.64807407],\n",
       "       [0.        , 0.17320508, 0.2236068 , 0.26457513, 0.3       ],\n",
       "       [0.        , 0.14142136, 0.17320508, 0.24494897, 0.33166248],\n",
       "       [0.        , 0.14142136, 0.14142136, 0.17320508, 0.2236068 ],\n",
       "       [0.        , 0.2       , 0.33166248, 0.34641016, 0.34641016],\n",
       "       [0.        , 0.38729833, 0.38729833, 0.72111026, 0.79372539],\n",
       "       [0.        , 0.14142136, 0.17320508, 0.2236068 , 0.24494897],\n",
       "       [0.        , 0.42426407, 0.5       , 0.50990195, 0.55677644],\n",
       "       [0.        , 0.        , 0.26457513, 0.31622777, 0.33166248],\n",
       "       [0.        , 0.38729833, 0.4       , 0.41231056, 0.45825757],\n",
       "       [0.        , 0.24494897, 0.24494897, 0.33166248, 0.38729833],\n",
       "       [0.        , 0.3       , 0.31622777, 0.36055513, 0.38729833],\n",
       "       [0.        , 0.26457513, 0.52915026, 0.54772256, 0.54772256],\n",
       "       [0.        , 0.73484692, 0.76157731, 0.79372539, 0.87749644],\n",
       "       [0.        , 0.26457513, 0.43588989, 0.52915026, 0.54772256],\n",
       "       [0.        , 0.55677644, 0.6       , 0.6164414 , 0.6164414 ],\n",
       "       [0.        , 0.63245553, 0.67082039, 0.70710678, 0.75498344],\n",
       "       [0.        , 0.2236068 , 0.37416574, 0.42426407, 0.42426407],\n",
       "       [0.        , 0.34641016, 0.37416574, 0.37416574, 0.38729833],\n",
       "       [0.        , 0.17320508, 0.34641016, 0.36055513, 0.37416574],\n",
       "       [0.        , 0.26457513, 0.26457513, 0.33166248, 0.51961524],\n",
       "       [0.        , 0.48989795, 0.50990195, 0.50990195, 0.51961524],\n",
       "       [0.        , 0.3       , 0.37416574, 0.37416574, 0.38729833],\n",
       "       [0.        , 0.14142136, 0.24494897, 0.36055513, 0.38729833],\n",
       "       [0.        , 0.41231056, 0.81853528, 0.86023253, 1.00498756],\n",
       "       [0.        , 0.41231056, 0.54772256, 0.89442719, 0.92736185],\n",
       "       [0.        , 0.43588989, 0.51961524, 0.53851648, 0.58309519],\n",
       "       [0.        , 0.2236068 , 0.26457513, 0.3       , 0.3       ],\n",
       "       [0.        , 0.31622777, 0.31622777, 0.33166248, 0.45825757],\n",
       "       [0.        , 0.26457513, 0.41231056, 0.60827625, 0.678233  ],\n",
       "       [0.        , 0.17320508, 0.24494897, 0.36055513, 0.36055513],\n",
       "       [0.        , 0.3       , 0.31622777, 0.37416574, 0.37416574],\n",
       "       [0.        , 0.34641016, 0.38729833, 0.43588989, 0.46904158],\n",
       "       [0.        , 0.17320508, 0.24494897, 0.28284271, 0.38729833],\n",
       "       [0.        , 0.14142136, 0.24494897, 0.28284271, 0.3       ],\n",
       "       [0.        , 0.1       , 0.31622777, 0.33166248, 0.37416574],\n",
       "       [0.        , 0.34641016, 0.50990195, 0.51961524, 0.55677644],\n",
       "       [0.        , 0.26457513, 0.45825757, 0.46904158, 0.50990195],\n",
       "       [0.        , 0.41231056, 0.88317609, 0.92736185, 0.93273791],\n",
       "       [0.        , 0.1       , 0.3       , 0.42426407, 0.43588989],\n",
       "       [0.        , 0.33166248, 0.36055513, 0.37416574, 0.43588989],\n",
       "       [0.        , 0.53851648, 0.55677644, 0.58309519, 0.66332496],\n",
       "       [0.        , 0.53851648, 0.54772256, 0.66332496, 0.678233  ],\n",
       "       [0.        , 0.24494897, 0.38729833, 0.42426407, 0.43588989],\n",
       "       [0.        , 0.14142136, 0.24494897, 0.38729833, 0.43588989],\n",
       "       [0.        , 0.14142136, 0.2236068 , 0.28284271, 0.31622777],\n",
       "       [0.        , 0.17320508, 0.36055513, 0.36055513, 0.37416574],\n",
       "       [0.        , 0.24494897, 0.26457513, 0.34641016, 0.34641016],\n",
       "       [0.        , 0.24494897, 0.36055513, 0.46904158, 0.50990195],\n",
       "       [0.        , 0.        , 0.26457513, 0.31622777, 0.33166248],\n",
       "       [0.        , 0.2236068 , 0.31622777, 0.31622777, 0.34641016],\n",
       "       [0.        , 0.24494897, 0.3       , 0.31622777, 0.4       ],\n",
       "       [0.        , 0.24494897, 0.36055513, 0.36055513, 0.37416574],\n",
       "       [0.        , 0.24494897, 0.37416574, 0.38729833, 0.41231056],\n",
       "       [0.        , 0.2236068 , 0.34641016, 0.36055513, 0.36055513],\n",
       "       [0.        , 0.24494897, 0.3       , 0.55677644, 0.6164414 ],\n",
       "       [0.        , 0.28284271, 0.31622777, 0.33166248, 0.33166248]])"
      ]
     },
     "execution_count": 33,
     "metadata": {},
     "output_type": "execute_result"
    }
   ],
   "source": [
    "distances"
   ]
  },
  {
   "cell_type": "code",
   "execution_count": 35,
   "metadata": {},
   "outputs": [
    {
     "data": {
      "text/plain": [
       "array([[  0,  17,   4,  39,  27],\n",
       "       [  1,  45,  12,  34,  37],\n",
       "       [  2,  47,   3,  12,   6],\n",
       "       [  3,  47,  29,  30,   2],\n",
       "       [  4,   0,  17,  40,   7],\n",
       "       [  5,  18,  10,  48,  44],\n",
       "       [  6,  47,   2,  11,  42],\n",
       "       [  7,  39,  49,   0,  17],\n",
       "       [  8,  38,   3,  42,  13],\n",
       "       [ 34,   9,  37,   1,  30],\n",
       "       [ 10,  48,  27,  36,  19],\n",
       "       [ 11,  29,   7,  26,  24],\n",
       "       [ 12,   1,   9,  37,  34],\n",
       "       [ 13,  38,  42,   8,  47],\n",
       "       [ 14,  33,  16,  15,  18],\n",
       "       [ 15,  33,  14,   5,  16],\n",
       "       [ 16,  10,  48,  33,  19],\n",
       "       [ 17,   0,  40,   4,  39],\n",
       "       [ 18,   5,  10,  48,  20],\n",
       "       [ 19,  21,  46,  48,   4],\n",
       "       [ 20,  31,  27,  28,  10],\n",
       "       [ 21,  19,  46,  17,   4],\n",
       "       [ 22,   6,   2,  40,  42],\n",
       "       [ 23,  26,  43,  39,   7],\n",
       "       [ 24,  11,  29,  26,  30],\n",
       "       [ 25,   9,  34,  37,   1],\n",
       "       [ 26,  23,  43,   7,  39],\n",
       "       [ 27,  28,   0,  39,  17],\n",
       "       [ 28,  27,   0,  39,  17],\n",
       "       [ 29,  30,   3,  11,  47],\n",
       "       [ 30,  29,   9,  34,  37],\n",
       "       [ 31,  20,  28,  27,  36],\n",
       "       [ 32,  46,  33,  19,  48],\n",
       "       [ 33,  32,  15,  16,  14],\n",
       "       [ 34,   9,  37,   1,  30],\n",
       "       [ 35,  49,   1,   2,  40],\n",
       "       [ 36,  10,  31,  28,  48],\n",
       "       [ 34,   9,  37,   1,  30],\n",
       "       [ 38,   8,  42,  13,   3],\n",
       "       [ 39,   7,   0,  28,  27],\n",
       "       [ 40,  17,   0,   4,   7],\n",
       "       [ 41,   8,  38,  45,  13],\n",
       "       [ 42,  38,  47,   3,   2],\n",
       "       [ 43,  26,  23,  21,  17],\n",
       "       [ 44,  46,   5,  21,  19],\n",
       "       [ 45,   1,  12,  30,   2],\n",
       "       [ 46,  19,  21,  48,   4],\n",
       "       [ 47,   3,   2,  42,   6],\n",
       "       [ 48,  10,  27,  19,  46],\n",
       "       [ 49,   7,  39,  35,   0],\n",
       "       [ 50,  52,  86,  65,  76],\n",
       "       [ 51,  56,  75,  65,  86],\n",
       "       [ 52,  50,  86,  77,  76],\n",
       "       [ 53,  89,  80,  69,  81],\n",
       "       [ 54,  58,  75,  76,  86],\n",
       "       [ 55,  66,  90,  96,  94],\n",
       "       [ 56,  51,  85,  91, 127],\n",
       "       [ 57,  93,  98,  60,  81],\n",
       "       [ 58,  75,  54,  65,  76],\n",
       "       [ 59,  89,  94,  53,  80],\n",
       "       [ 60,  93,  57,  81,  80],\n",
       "       [ 61,  96,  78,  95,  99],\n",
       "       [ 62,  92,  69,  67,  80],\n",
       "       [ 63,  91,  73,  78,  97],\n",
       "       [ 64,  82,  79,  88,  99],\n",
       "       [ 65,  75,  58,  86,  51],\n",
       "       [ 66,  84,  55,  96,  78],\n",
       "       [ 67,  92,  82,  99,  69],\n",
       "       [ 68,  87,  72, 119,  54],\n",
       "       [ 69,  80,  89,  81,  92],\n",
       "       [ 70, 138, 127, 149,  85],\n",
       "       [ 71,  97,  82,  92,  61],\n",
       "       [ 72, 133, 123, 146,  83],\n",
       "       [ 73,  63,  91,  78,  97],\n",
       "       [ 74,  97,  75,  58,  54],\n",
       "       [ 75,  65,  58,  74,  54],\n",
       "       [ 76,  58,  86,  52,  54],\n",
       "       [ 77,  52,  86, 147, 110],\n",
       "       [ 78,  91,  63,  61,  97],\n",
       "       [ 79,  81,  80,  69,  64],\n",
       "       [ 80,  81,  69,  89,  53],\n",
       "       [ 81,  80,  69,  79,  89],\n",
       "       [ 82,  92,  99,  67,  69],\n",
       "       [ 83, 133, 101, 142, 149],\n",
       "       [ 84,  66,  55,  96,  88],\n",
       "       [ 85,  56,  70,  51,  91],\n",
       "       [ 86,  52,  65,  58,  50],\n",
       "       [ 87,  68,  72,  62,  54],\n",
       "       [ 88,  96,  95,  99,  94],\n",
       "       [ 89,  53,  69,  80,  94],\n",
       "       [ 90,  94,  55,  96,  89],\n",
       "       [ 91,  63,  78,  73,  97],\n",
       "       [ 92,  82,  67,  99,  69],\n",
       "       [ 93,  57,  60,  98,  81],\n",
       "       [ 94,  99,  96,  90,  89],\n",
       "       [ 95,  96,  88,  99,  94],\n",
       "       [ 96,  95,  99,  88,  94],\n",
       "       [ 97,  74,  71,  91,  78],\n",
       "       [ 98,  57,  93,  60,  79],\n",
       "       [ 99,  96,  94,  88,  95],\n",
       "       [100, 136, 144, 104, 143],\n",
       "       [101, 142, 113, 121, 149],\n",
       "       [102, 125, 120, 143, 130],\n",
       "       [103, 116, 137, 128, 111],\n",
       "       [104, 132, 128, 140, 124],\n",
       "       [105, 122, 107, 135, 118],\n",
       "       [106,  84,  59,  90,  89],\n",
       "       [107, 130, 125, 105, 102],\n",
       "       [108, 128, 103, 132, 116],\n",
       "       [109, 143, 120, 144, 102],\n",
       "       [110, 147, 115,  77, 145],\n",
       "       [111, 147, 128, 146, 103],\n",
       "       [112, 139, 140, 120, 145],\n",
       "       [113, 101, 142, 121, 114],\n",
       "       [114, 121, 101, 142, 113],\n",
       "       [115, 148, 145, 110, 147],\n",
       "       [116, 137, 103, 147, 111],\n",
       "       [117, 131, 105, 109, 135],\n",
       "       [118, 122, 105, 135, 107],\n",
       "       [119,  72,  83,  68, 146],\n",
       "       [120, 143, 140, 124, 144],\n",
       "       [121, 101, 142, 113, 149],\n",
       "       [122, 105, 118, 107, 130],\n",
       "       [123, 126, 146, 127,  72],\n",
       "       [124, 120, 143, 140, 112],\n",
       "       [125, 129, 102, 107, 130],\n",
       "       [126, 123, 127, 138, 146],\n",
       "       [127, 138, 126, 149,  70],\n",
       "       [128, 132, 104, 103, 111],\n",
       "       [129, 125, 130, 102, 107],\n",
       "       [130, 107, 102, 125, 129],\n",
       "       [131, 117, 105, 135, 109],\n",
       "       [132, 128, 104, 103, 111],\n",
       "       [133,  83,  72, 123, 126],\n",
       "       [134, 103,  83, 133, 111],\n",
       "       [135, 130, 105, 102, 107],\n",
       "       [136, 148, 115, 100, 144],\n",
       "       [137, 116, 103, 147, 128],\n",
       "       [138, 127,  70, 126, 149],\n",
       "       [139, 112, 145, 141, 120],\n",
       "       [140, 144, 120, 112, 143],\n",
       "       [141, 145, 139, 112, 110],\n",
       "       [101, 142, 113, 121, 149],\n",
       "       [143, 120, 124, 144, 140],\n",
       "       [144, 140, 120, 143, 124],\n",
       "       [145, 141, 147, 139, 112],\n",
       "       [146, 123, 111, 126,  72],\n",
       "       [147, 110, 111, 116, 145],\n",
       "       [148, 136, 115, 110, 147],\n",
       "       [149, 127, 138, 101, 142]])"
      ]
     },
     "execution_count": 35,
     "metadata": {},
     "output_type": "execute_result"
    }
   ],
   "source": [
    "indices"
   ]
  },
  {
   "cell_type": "code",
   "execution_count": 36,
   "metadata": {},
   "outputs": [
    {
     "data": {
      "text/plain": [
       "array([0.        , 0.1       , 0.14142136, 0.14142136, 0.14142136])"
      ]
     },
     "execution_count": 36,
     "metadata": {},
     "output_type": "execute_result"
    }
   ],
   "source": [
    "distances[0]"
   ]
  },
  {
   "cell_type": "code",
   "execution_count": 37,
   "metadata": {},
   "outputs": [
    {
     "data": {
      "text/plain": [
       "array([ 0, 17,  4, 39, 27])"
      ]
     },
     "execution_count": 37,
     "metadata": {},
     "output_type": "execute_result"
    }
   ],
   "source": [
    "indices[0]"
   ]
  },
  {
   "cell_type": "code",
   "execution_count": 38,
   "metadata": {},
   "outputs": [
    {
     "data": {
      "text/plain": [
       "(150, 5)"
      ]
     },
     "execution_count": 38,
     "metadata": {},
     "output_type": "execute_result"
    }
   ],
   "source": [
    "distances.shape"
   ]
  },
  {
   "cell_type": "code",
   "execution_count": 39,
   "metadata": {},
   "outputs": [
    {
     "data": {
      "text/plain": [
       "(150, 5)"
      ]
     },
     "execution_count": 39,
     "metadata": {},
     "output_type": "execute_result"
    }
   ],
   "source": [
    "indices.shape"
   ]
  },
  {
   "cell_type": "markdown",
   "metadata": {},
   "source": [
    "## Resources\n",
    "\n",
    "- [Nearest Neighbors](http://scikit-learn.org/stable/modules/neighbors.html) (user guide), [KNeighborsClassifier](http://scikit-learn.org/stable/modules/generated/sklearn.neighbors.KNeighborsClassifier.html) (class documentation)\n",
    "- [Logistic Regression](http://scikit-learn.org/stable/modules/linear_model.html#logistic-regression) (user guide), [LogisticRegression](http://scikit-learn.org/stable/modules/generated/sklearn.linear_model.LogisticRegression.html) (class documentation)\n",
    "- [Videos from An Introduction to Statistical Learning](http://www.dataschool.io/15-hours-of-expert-machine-learning-videos/)\n",
    "    - Classification Problems and K-Nearest Neighbors (Chapter 2)\n",
    "    - Introduction to Classification (Chapter 4)\n",
    "    - Logistic Regression and Maximum Likelihood (Chapter 4)"
   ]
  },
  {
   "cell_type": "code",
   "execution_count": null,
   "metadata": {},
   "outputs": [],
   "source": []
  },
  {
   "cell_type": "code",
   "execution_count": null,
   "metadata": {},
   "outputs": [],
   "source": []
  },
  {
   "cell_type": "code",
   "execution_count": 40,
   "metadata": {},
   "outputs": [
    {
     "data": {
      "text/html": [
       "<div>\n",
       "<style scoped>\n",
       "    .dataframe tbody tr th:only-of-type {\n",
       "        vertical-align: middle;\n",
       "    }\n",
       "\n",
       "    .dataframe tbody tr th {\n",
       "        vertical-align: top;\n",
       "    }\n",
       "\n",
       "    .dataframe thead th {\n",
       "        text-align: right;\n",
       "    }\n",
       "</style>\n",
       "<table border=\"1\" class=\"dataframe\">\n",
       "  <thead>\n",
       "    <tr style=\"text-align: right;\">\n",
       "      <th></th>\n",
       "      <th>sepal_length</th>\n",
       "      <th>sepal_width</th>\n",
       "      <th>petal_length</th>\n",
       "      <th>petal_width</th>\n",
       "      <th>species</th>\n",
       "      <th>Species</th>\n",
       "    </tr>\n",
       "  </thead>\n",
       "  <tbody>\n",
       "    <tr>\n",
       "      <th>0</th>\n",
       "      <td>5.1</td>\n",
       "      <td>3.5</td>\n",
       "      <td>1.4</td>\n",
       "      <td>0.2</td>\n",
       "      <td>Iris-setosa</td>\n",
       "      <td>0</td>\n",
       "    </tr>\n",
       "    <tr>\n",
       "      <th>1</th>\n",
       "      <td>4.9</td>\n",
       "      <td>3.0</td>\n",
       "      <td>1.4</td>\n",
       "      <td>0.2</td>\n",
       "      <td>Iris-setosa</td>\n",
       "      <td>0</td>\n",
       "    </tr>\n",
       "    <tr>\n",
       "      <th>2</th>\n",
       "      <td>4.7</td>\n",
       "      <td>3.2</td>\n",
       "      <td>1.3</td>\n",
       "      <td>0.2</td>\n",
       "      <td>Iris-setosa</td>\n",
       "      <td>0</td>\n",
       "    </tr>\n",
       "    <tr>\n",
       "      <th>3</th>\n",
       "      <td>4.6</td>\n",
       "      <td>3.1</td>\n",
       "      <td>1.5</td>\n",
       "      <td>0.2</td>\n",
       "      <td>Iris-setosa</td>\n",
       "      <td>0</td>\n",
       "    </tr>\n",
       "    <tr>\n",
       "      <th>4</th>\n",
       "      <td>5.0</td>\n",
       "      <td>3.6</td>\n",
       "      <td>1.4</td>\n",
       "      <td>0.2</td>\n",
       "      <td>Iris-setosa</td>\n",
       "      <td>0</td>\n",
       "    </tr>\n",
       "  </tbody>\n",
       "</table>\n",
       "</div>"
      ],
      "text/plain": [
       "   sepal_length  sepal_width  petal_length  petal_width      species  Species\n",
       "0           5.1          3.5           1.4          0.2  Iris-setosa        0\n",
       "1           4.9          3.0           1.4          0.2  Iris-setosa        0\n",
       "2           4.7          3.2           1.3          0.2  Iris-setosa        0\n",
       "3           4.6          3.1           1.5          0.2  Iris-setosa        0\n",
       "4           5.0          3.6           1.4          0.2  Iris-setosa        0"
      ]
     },
     "execution_count": 40,
     "metadata": {},
     "output_type": "execute_result"
    }
   ],
   "source": [
    "data.head()"
   ]
  },
  {
   "cell_type": "markdown",
   "metadata": {},
   "source": [
    "# Unsupervised Learning Version of Nearest Neighbors:"
   ]
  },
  {
   "cell_type": "code",
   "execution_count": 42,
   "metadata": {},
   "outputs": [],
   "source": [
    "from sklearn.neighbors import NearestNeighbors"
   ]
  },
  {
   "cell_type": "code",
   "execution_count": 43,
   "metadata": {},
   "outputs": [],
   "source": [
    "# ONLY FIT THE X DATA. NO RESPONSE SINCE WE ARE MAKING NO ASSUMPTIONS ON LABEL.\n",
    "nbrs = NearestNeighbors(n_neighbors=2, algorithm='ball_tree').fit(X)"
   ]
  },
  {
   "cell_type": "code",
   "execution_count": 45,
   "metadata": {},
   "outputs": [
    {
     "data": {
      "text/plain": [
       "NearestNeighbors(algorithm='ball_tree', leaf_size=30, metric='minkowski',\n",
       "         metric_params=None, n_jobs=1, n_neighbors=2, p=2, radius=1.0)"
      ]
     },
     "execution_count": 45,
     "metadata": {},
     "output_type": "execute_result"
    }
   ],
   "source": [
    "nbrs"
   ]
  },
  {
   "cell_type": "code",
   "execution_count": 57,
   "metadata": {},
   "outputs": [
    {
     "data": {
      "text/plain": [
       "<150x150 sparse matrix of type '<class 'numpy.float64'>'\n",
       "\twith 300 stored elements in Compressed Sparse Row format>"
      ]
     },
     "execution_count": 57,
     "metadata": {},
     "output_type": "execute_result"
    }
   ],
   "source": [
    "nbrs.kneighbors_graph(X)"
   ]
  },
  {
   "cell_type": "code",
   "execution_count": 58,
   "metadata": {},
   "outputs": [
    {
     "data": {
      "text/plain": [
       "array([[1., 0., 0., ..., 0., 0., 0.],\n",
       "       [0., 1., 0., ..., 0., 0., 0.],\n",
       "       [0., 0., 1., ..., 0., 0., 0.],\n",
       "       ...,\n",
       "       [0., 0., 0., ..., 1., 0., 0.],\n",
       "       [0., 0., 0., ..., 0., 1., 0.],\n",
       "       [0., 0., 0., ..., 0., 0., 1.]])"
      ]
     },
     "execution_count": 58,
     "metadata": {},
     "output_type": "execute_result"
    }
   ],
   "source": [
    "nbrs.kneighbors_graph(X).toarray()"
   ]
  },
  {
   "cell_type": "code",
   "execution_count": 46,
   "metadata": {},
   "outputs": [],
   "source": [
    "distances, indices = nbrs.kneighbors(X)"
   ]
  },
  {
   "cell_type": "code",
   "execution_count": null,
   "metadata": {},
   "outputs": [],
   "source": []
  },
  {
   "cell_type": "code",
   "execution_count": null,
   "metadata": {},
   "outputs": [],
   "source": [
    "knn.fit(X, y)"
   ]
  },
  {
   "cell_type": "code",
   "execution_count": null,
   "metadata": {},
   "outputs": [],
   "source": [
    "knn.predict([[3, 5, 4, 2], [5, 4, 3, 2], [6, 4, 5, 1]])"
   ]
  },
  {
   "cell_type": "code",
   "execution_count": 61,
   "metadata": {},
   "outputs": [
    {
     "data": {
      "text/html": [
       "<div>\n",
       "<style scoped>\n",
       "    .dataframe tbody tr th:only-of-type {\n",
       "        vertical-align: middle;\n",
       "    }\n",
       "\n",
       "    .dataframe tbody tr th {\n",
       "        vertical-align: top;\n",
       "    }\n",
       "\n",
       "    .dataframe thead th {\n",
       "        text-align: right;\n",
       "    }\n",
       "</style>\n",
       "<table border=\"1\" class=\"dataframe\">\n",
       "  <thead>\n",
       "    <tr style=\"text-align: right;\">\n",
       "      <th></th>\n",
       "      <th>sepal_length</th>\n",
       "      <th>sepal_width</th>\n",
       "      <th>petal_length</th>\n",
       "      <th>petal_width</th>\n",
       "      <th>species</th>\n",
       "      <th>Species</th>\n",
       "    </tr>\n",
       "  </thead>\n",
       "  <tbody>\n",
       "    <tr>\n",
       "      <th>0</th>\n",
       "      <td>5.1</td>\n",
       "      <td>3.5</td>\n",
       "      <td>1.4</td>\n",
       "      <td>0.2</td>\n",
       "      <td>Iris-setosa</td>\n",
       "      <td>0</td>\n",
       "    </tr>\n",
       "    <tr>\n",
       "      <th>1</th>\n",
       "      <td>4.9</td>\n",
       "      <td>3.0</td>\n",
       "      <td>1.4</td>\n",
       "      <td>0.2</td>\n",
       "      <td>Iris-setosa</td>\n",
       "      <td>0</td>\n",
       "    </tr>\n",
       "    <tr>\n",
       "      <th>2</th>\n",
       "      <td>4.7</td>\n",
       "      <td>3.2</td>\n",
       "      <td>1.3</td>\n",
       "      <td>0.2</td>\n",
       "      <td>Iris-setosa</td>\n",
       "      <td>0</td>\n",
       "    </tr>\n",
       "    <tr>\n",
       "      <th>3</th>\n",
       "      <td>4.6</td>\n",
       "      <td>3.1</td>\n",
       "      <td>1.5</td>\n",
       "      <td>0.2</td>\n",
       "      <td>Iris-setosa</td>\n",
       "      <td>0</td>\n",
       "    </tr>\n",
       "    <tr>\n",
       "      <th>4</th>\n",
       "      <td>5.0</td>\n",
       "      <td>3.6</td>\n",
       "      <td>1.4</td>\n",
       "      <td>0.2</td>\n",
       "      <td>Iris-setosa</td>\n",
       "      <td>0</td>\n",
       "    </tr>\n",
       "  </tbody>\n",
       "</table>\n",
       "</div>"
      ],
      "text/plain": [
       "   sepal_length  sepal_width  petal_length  petal_width      species  Species\n",
       "0           5.1          3.5           1.4          0.2  Iris-setosa        0\n",
       "1           4.9          3.0           1.4          0.2  Iris-setosa        0\n",
       "2           4.7          3.2           1.3          0.2  Iris-setosa        0\n",
       "3           4.6          3.1           1.5          0.2  Iris-setosa        0\n",
       "4           5.0          3.6           1.4          0.2  Iris-setosa        0"
      ]
     },
     "execution_count": 61,
     "metadata": {},
     "output_type": "execute_result"
    }
   ],
   "source": [
    "data.head()"
   ]
  },
  {
   "cell_type": "code",
   "execution_count": null,
   "metadata": {},
   "outputs": [],
   "source": []
  },
  {
   "cell_type": "code",
   "execution_count": 63,
   "metadata": {},
   "outputs": [
    {
     "data": {
      "text/html": [
       "<div>\n",
       "<style scoped>\n",
       "    .dataframe tbody tr th:only-of-type {\n",
       "        vertical-align: middle;\n",
       "    }\n",
       "\n",
       "    .dataframe tbody tr th {\n",
       "        vertical-align: top;\n",
       "    }\n",
       "\n",
       "    .dataframe thead th {\n",
       "        text-align: right;\n",
       "    }\n",
       "</style>\n",
       "<table border=\"1\" class=\"dataframe\">\n",
       "  <thead>\n",
       "    <tr style=\"text-align: right;\">\n",
       "      <th></th>\n",
       "      <th>sepal_length</th>\n",
       "      <th>sepal_width</th>\n",
       "      <th>petal_length</th>\n",
       "    </tr>\n",
       "  </thead>\n",
       "  <tbody>\n",
       "    <tr>\n",
       "      <th>0</th>\n",
       "      <td>5.1</td>\n",
       "      <td>3.5</td>\n",
       "      <td>1.4</td>\n",
       "    </tr>\n",
       "    <tr>\n",
       "      <th>1</th>\n",
       "      <td>4.9</td>\n",
       "      <td>3.0</td>\n",
       "      <td>1.4</td>\n",
       "    </tr>\n",
       "    <tr>\n",
       "      <th>2</th>\n",
       "      <td>4.7</td>\n",
       "      <td>3.2</td>\n",
       "      <td>1.3</td>\n",
       "    </tr>\n",
       "    <tr>\n",
       "      <th>3</th>\n",
       "      <td>4.6</td>\n",
       "      <td>3.1</td>\n",
       "      <td>1.5</td>\n",
       "    </tr>\n",
       "    <tr>\n",
       "      <th>4</th>\n",
       "      <td>5.0</td>\n",
       "      <td>3.6</td>\n",
       "      <td>1.4</td>\n",
       "    </tr>\n",
       "    <tr>\n",
       "      <th>5</th>\n",
       "      <td>5.4</td>\n",
       "      <td>3.9</td>\n",
       "      <td>1.7</td>\n",
       "    </tr>\n",
       "    <tr>\n",
       "      <th>6</th>\n",
       "      <td>4.6</td>\n",
       "      <td>3.4</td>\n",
       "      <td>1.4</td>\n",
       "    </tr>\n",
       "    <tr>\n",
       "      <th>7</th>\n",
       "      <td>5.0</td>\n",
       "      <td>3.4</td>\n",
       "      <td>1.5</td>\n",
       "    </tr>\n",
       "    <tr>\n",
       "      <th>8</th>\n",
       "      <td>4.4</td>\n",
       "      <td>2.9</td>\n",
       "      <td>1.4</td>\n",
       "    </tr>\n",
       "    <tr>\n",
       "      <th>9</th>\n",
       "      <td>4.9</td>\n",
       "      <td>3.1</td>\n",
       "      <td>1.5</td>\n",
       "    </tr>\n",
       "    <tr>\n",
       "      <th>10</th>\n",
       "      <td>5.4</td>\n",
       "      <td>3.7</td>\n",
       "      <td>1.5</td>\n",
       "    </tr>\n",
       "    <tr>\n",
       "      <th>11</th>\n",
       "      <td>4.8</td>\n",
       "      <td>3.4</td>\n",
       "      <td>1.6</td>\n",
       "    </tr>\n",
       "    <tr>\n",
       "      <th>12</th>\n",
       "      <td>4.8</td>\n",
       "      <td>3.0</td>\n",
       "      <td>1.4</td>\n",
       "    </tr>\n",
       "    <tr>\n",
       "      <th>13</th>\n",
       "      <td>4.3</td>\n",
       "      <td>3.0</td>\n",
       "      <td>1.1</td>\n",
       "    </tr>\n",
       "    <tr>\n",
       "      <th>14</th>\n",
       "      <td>5.8</td>\n",
       "      <td>4.0</td>\n",
       "      <td>1.2</td>\n",
       "    </tr>\n",
       "    <tr>\n",
       "      <th>15</th>\n",
       "      <td>5.7</td>\n",
       "      <td>4.4</td>\n",
       "      <td>1.5</td>\n",
       "    </tr>\n",
       "    <tr>\n",
       "      <th>16</th>\n",
       "      <td>5.4</td>\n",
       "      <td>3.9</td>\n",
       "      <td>1.3</td>\n",
       "    </tr>\n",
       "    <tr>\n",
       "      <th>17</th>\n",
       "      <td>5.1</td>\n",
       "      <td>3.5</td>\n",
       "      <td>1.4</td>\n",
       "    </tr>\n",
       "    <tr>\n",
       "      <th>18</th>\n",
       "      <td>5.7</td>\n",
       "      <td>3.8</td>\n",
       "      <td>1.7</td>\n",
       "    </tr>\n",
       "    <tr>\n",
       "      <th>19</th>\n",
       "      <td>5.1</td>\n",
       "      <td>3.8</td>\n",
       "      <td>1.5</td>\n",
       "    </tr>\n",
       "    <tr>\n",
       "      <th>20</th>\n",
       "      <td>5.4</td>\n",
       "      <td>3.4</td>\n",
       "      <td>1.7</td>\n",
       "    </tr>\n",
       "    <tr>\n",
       "      <th>21</th>\n",
       "      <td>5.1</td>\n",
       "      <td>3.7</td>\n",
       "      <td>1.5</td>\n",
       "    </tr>\n",
       "    <tr>\n",
       "      <th>22</th>\n",
       "      <td>4.6</td>\n",
       "      <td>3.6</td>\n",
       "      <td>1.0</td>\n",
       "    </tr>\n",
       "    <tr>\n",
       "      <th>23</th>\n",
       "      <td>5.1</td>\n",
       "      <td>3.3</td>\n",
       "      <td>1.7</td>\n",
       "    </tr>\n",
       "    <tr>\n",
       "      <th>24</th>\n",
       "      <td>4.8</td>\n",
       "      <td>3.4</td>\n",
       "      <td>1.9</td>\n",
       "    </tr>\n",
       "    <tr>\n",
       "      <th>25</th>\n",
       "      <td>5.0</td>\n",
       "      <td>3.0</td>\n",
       "      <td>1.6</td>\n",
       "    </tr>\n",
       "    <tr>\n",
       "      <th>26</th>\n",
       "      <td>5.0</td>\n",
       "      <td>3.4</td>\n",
       "      <td>1.6</td>\n",
       "    </tr>\n",
       "    <tr>\n",
       "      <th>27</th>\n",
       "      <td>5.2</td>\n",
       "      <td>3.5</td>\n",
       "      <td>1.5</td>\n",
       "    </tr>\n",
       "    <tr>\n",
       "      <th>28</th>\n",
       "      <td>5.2</td>\n",
       "      <td>3.4</td>\n",
       "      <td>1.4</td>\n",
       "    </tr>\n",
       "    <tr>\n",
       "      <th>29</th>\n",
       "      <td>4.7</td>\n",
       "      <td>3.2</td>\n",
       "      <td>1.6</td>\n",
       "    </tr>\n",
       "    <tr>\n",
       "      <th>...</th>\n",
       "      <td>...</td>\n",
       "      <td>...</td>\n",
       "      <td>...</td>\n",
       "    </tr>\n",
       "    <tr>\n",
       "      <th>120</th>\n",
       "      <td>6.9</td>\n",
       "      <td>3.2</td>\n",
       "      <td>5.7</td>\n",
       "    </tr>\n",
       "    <tr>\n",
       "      <th>121</th>\n",
       "      <td>5.6</td>\n",
       "      <td>2.8</td>\n",
       "      <td>4.9</td>\n",
       "    </tr>\n",
       "    <tr>\n",
       "      <th>122</th>\n",
       "      <td>7.7</td>\n",
       "      <td>2.8</td>\n",
       "      <td>6.7</td>\n",
       "    </tr>\n",
       "    <tr>\n",
       "      <th>123</th>\n",
       "      <td>6.3</td>\n",
       "      <td>2.7</td>\n",
       "      <td>4.9</td>\n",
       "    </tr>\n",
       "    <tr>\n",
       "      <th>124</th>\n",
       "      <td>6.7</td>\n",
       "      <td>3.3</td>\n",
       "      <td>5.7</td>\n",
       "    </tr>\n",
       "    <tr>\n",
       "      <th>125</th>\n",
       "      <td>7.2</td>\n",
       "      <td>3.2</td>\n",
       "      <td>6.0</td>\n",
       "    </tr>\n",
       "    <tr>\n",
       "      <th>126</th>\n",
       "      <td>6.2</td>\n",
       "      <td>2.8</td>\n",
       "      <td>4.8</td>\n",
       "    </tr>\n",
       "    <tr>\n",
       "      <th>127</th>\n",
       "      <td>6.1</td>\n",
       "      <td>3.0</td>\n",
       "      <td>4.9</td>\n",
       "    </tr>\n",
       "    <tr>\n",
       "      <th>128</th>\n",
       "      <td>6.4</td>\n",
       "      <td>2.8</td>\n",
       "      <td>5.6</td>\n",
       "    </tr>\n",
       "    <tr>\n",
       "      <th>129</th>\n",
       "      <td>7.2</td>\n",
       "      <td>3.0</td>\n",
       "      <td>5.8</td>\n",
       "    </tr>\n",
       "    <tr>\n",
       "      <th>130</th>\n",
       "      <td>7.4</td>\n",
       "      <td>2.8</td>\n",
       "      <td>6.1</td>\n",
       "    </tr>\n",
       "    <tr>\n",
       "      <th>131</th>\n",
       "      <td>7.9</td>\n",
       "      <td>3.8</td>\n",
       "      <td>6.4</td>\n",
       "    </tr>\n",
       "    <tr>\n",
       "      <th>132</th>\n",
       "      <td>6.4</td>\n",
       "      <td>2.8</td>\n",
       "      <td>5.6</td>\n",
       "    </tr>\n",
       "    <tr>\n",
       "      <th>133</th>\n",
       "      <td>6.3</td>\n",
       "      <td>2.8</td>\n",
       "      <td>5.1</td>\n",
       "    </tr>\n",
       "    <tr>\n",
       "      <th>134</th>\n",
       "      <td>6.1</td>\n",
       "      <td>2.6</td>\n",
       "      <td>5.6</td>\n",
       "    </tr>\n",
       "    <tr>\n",
       "      <th>135</th>\n",
       "      <td>7.7</td>\n",
       "      <td>3.0</td>\n",
       "      <td>6.1</td>\n",
       "    </tr>\n",
       "    <tr>\n",
       "      <th>136</th>\n",
       "      <td>6.3</td>\n",
       "      <td>3.4</td>\n",
       "      <td>5.6</td>\n",
       "    </tr>\n",
       "    <tr>\n",
       "      <th>137</th>\n",
       "      <td>6.4</td>\n",
       "      <td>3.1</td>\n",
       "      <td>5.5</td>\n",
       "    </tr>\n",
       "    <tr>\n",
       "      <th>138</th>\n",
       "      <td>6.0</td>\n",
       "      <td>3.0</td>\n",
       "      <td>4.8</td>\n",
       "    </tr>\n",
       "    <tr>\n",
       "      <th>139</th>\n",
       "      <td>6.9</td>\n",
       "      <td>3.1</td>\n",
       "      <td>5.4</td>\n",
       "    </tr>\n",
       "    <tr>\n",
       "      <th>140</th>\n",
       "      <td>6.7</td>\n",
       "      <td>3.1</td>\n",
       "      <td>5.6</td>\n",
       "    </tr>\n",
       "    <tr>\n",
       "      <th>141</th>\n",
       "      <td>6.9</td>\n",
       "      <td>3.1</td>\n",
       "      <td>5.1</td>\n",
       "    </tr>\n",
       "    <tr>\n",
       "      <th>142</th>\n",
       "      <td>5.8</td>\n",
       "      <td>2.7</td>\n",
       "      <td>5.1</td>\n",
       "    </tr>\n",
       "    <tr>\n",
       "      <th>143</th>\n",
       "      <td>6.8</td>\n",
       "      <td>3.2</td>\n",
       "      <td>5.9</td>\n",
       "    </tr>\n",
       "    <tr>\n",
       "      <th>144</th>\n",
       "      <td>6.7</td>\n",
       "      <td>3.3</td>\n",
       "      <td>5.7</td>\n",
       "    </tr>\n",
       "    <tr>\n",
       "      <th>145</th>\n",
       "      <td>6.7</td>\n",
       "      <td>3.0</td>\n",
       "      <td>5.2</td>\n",
       "    </tr>\n",
       "    <tr>\n",
       "      <th>146</th>\n",
       "      <td>6.3</td>\n",
       "      <td>2.5</td>\n",
       "      <td>5.0</td>\n",
       "    </tr>\n",
       "    <tr>\n",
       "      <th>147</th>\n",
       "      <td>6.5</td>\n",
       "      <td>3.0</td>\n",
       "      <td>5.2</td>\n",
       "    </tr>\n",
       "    <tr>\n",
       "      <th>148</th>\n",
       "      <td>6.2</td>\n",
       "      <td>3.4</td>\n",
       "      <td>5.4</td>\n",
       "    </tr>\n",
       "    <tr>\n",
       "      <th>149</th>\n",
       "      <td>5.9</td>\n",
       "      <td>3.0</td>\n",
       "      <td>5.1</td>\n",
       "    </tr>\n",
       "  </tbody>\n",
       "</table>\n",
       "<p>150 rows × 3 columns</p>\n",
       "</div>"
      ],
      "text/plain": [
       "     sepal_length  sepal_width  petal_length\n",
       "0             5.1          3.5           1.4\n",
       "1             4.9          3.0           1.4\n",
       "2             4.7          3.2           1.3\n",
       "3             4.6          3.1           1.5\n",
       "4             5.0          3.6           1.4\n",
       "5             5.4          3.9           1.7\n",
       "6             4.6          3.4           1.4\n",
       "7             5.0          3.4           1.5\n",
       "8             4.4          2.9           1.4\n",
       "9             4.9          3.1           1.5\n",
       "10            5.4          3.7           1.5\n",
       "11            4.8          3.4           1.6\n",
       "12            4.8          3.0           1.4\n",
       "13            4.3          3.0           1.1\n",
       "14            5.8          4.0           1.2\n",
       "15            5.7          4.4           1.5\n",
       "16            5.4          3.9           1.3\n",
       "17            5.1          3.5           1.4\n",
       "18            5.7          3.8           1.7\n",
       "19            5.1          3.8           1.5\n",
       "20            5.4          3.4           1.7\n",
       "21            5.1          3.7           1.5\n",
       "22            4.6          3.6           1.0\n",
       "23            5.1          3.3           1.7\n",
       "24            4.8          3.4           1.9\n",
       "25            5.0          3.0           1.6\n",
       "26            5.0          3.4           1.6\n",
       "27            5.2          3.5           1.5\n",
       "28            5.2          3.4           1.4\n",
       "29            4.7          3.2           1.6\n",
       "..            ...          ...           ...\n",
       "120           6.9          3.2           5.7\n",
       "121           5.6          2.8           4.9\n",
       "122           7.7          2.8           6.7\n",
       "123           6.3          2.7           4.9\n",
       "124           6.7          3.3           5.7\n",
       "125           7.2          3.2           6.0\n",
       "126           6.2          2.8           4.8\n",
       "127           6.1          3.0           4.9\n",
       "128           6.4          2.8           5.6\n",
       "129           7.2          3.0           5.8\n",
       "130           7.4          2.8           6.1\n",
       "131           7.9          3.8           6.4\n",
       "132           6.4          2.8           5.6\n",
       "133           6.3          2.8           5.1\n",
       "134           6.1          2.6           5.6\n",
       "135           7.7          3.0           6.1\n",
       "136           6.3          3.4           5.6\n",
       "137           6.4          3.1           5.5\n",
       "138           6.0          3.0           4.8\n",
       "139           6.9          3.1           5.4\n",
       "140           6.7          3.1           5.6\n",
       "141           6.9          3.1           5.1\n",
       "142           5.8          2.7           5.1\n",
       "143           6.8          3.2           5.9\n",
       "144           6.7          3.3           5.7\n",
       "145           6.7          3.0           5.2\n",
       "146           6.3          2.5           5.0\n",
       "147           6.5          3.0           5.2\n",
       "148           6.2          3.4           5.4\n",
       "149           5.9          3.0           5.1\n",
       "\n",
       "[150 rows x 3 columns]"
      ]
     },
     "execution_count": 63,
     "metadata": {},
     "output_type": "execute_result"
    }
   ],
   "source": [
    "data.loc[:, :'petal_length']"
   ]
  },
  {
   "cell_type": "code",
   "execution_count": null,
   "metadata": {},
   "outputs": [],
   "source": []
  },
  {
   "cell_type": "code",
   "execution_count": null,
   "metadata": {},
   "outputs": [],
   "source": [
    "print(__doc__)\n",
    "\n",
    "import numpy as np\n",
    "import matplotlib.pyplot as plt\n",
    "from matplotlib.colors import ListedColormap\n",
    "from sklearn import neighbors, datasets\n",
    "\n",
    "n_neighbors = 15\n",
    "\n",
    "# import some data to play with\n",
    "iris = datasets.load_iris()\n",
    "\n",
    "# we only take the first two features. We could avoid this ugly\n",
    "# slicing by using a two-dim dataset\n",
    "X = iris.data[:, :2]\n",
    "y = iris.target\n",
    "\n",
    "h = .02  # step size in the mesh\n",
    "\n",
    "# Create color maps\n",
    "cmap_light = ListedColormap(['#FFAAAA', '#AAFFAA', '#AAAAFF'])\n",
    "cmap_bold = ListedColormap(['#FF0000', '#00FF00', '#0000FF'])\n",
    "\n",
    "for weights in ['uniform', 'distance']:\n",
    "    # we create an instance of Neighbours Classifier and fit the data.\n",
    "    clf = neighbors.KNeighborsClassifier(n_neighbors, weights=weights)\n",
    "    clf.fit(X, y)\n",
    "\n",
    "    # Plot the decision boundary. For that, we will assign a color to each\n",
    "    # point in the mesh [x_min, x_max]x[y_min, y_max].\n",
    "    x_min, x_max = X[:, 0].min() - 1, X[:, 0].max() + 1\n",
    "    y_min, y_max = X[:, 1].min() - 1, X[:, 1].max() + 1\n",
    "    xx, yy = np.meshgrid(np.arange(x_min, x_max, h),\n",
    "                         np.arange(y_min, y_max, h))\n",
    "    Z = clf.predict(np.c_[xx.ravel(), yy.ravel()])\n",
    "\n",
    "    # Put the result into a color plot\n",
    "    Z = Z.reshape(xx.shape)\n",
    "    plt.figure()\n",
    "    plt.pcolormesh(xx, yy, Z, cmap=cmap_light)\n",
    "\n",
    "    # Plot also the training points\n",
    "    plt.scatter(X[:, 0], X[:, 1], c=y, cmap=cmap_bold,\n",
    "                edgecolor='k', s=20)\n",
    "    plt.xlim(xx.min(), xx.max())\n",
    "    plt.ylim(yy.min(), yy.max())\n",
    "    plt.title(\"3-Class classification (k = %i, weights = '%s')\"\n",
    "              % (n_neighbors, weights))\n",
    "\n",
    "plt.show()"
   ]
  },
  {
   "cell_type": "code",
   "execution_count": null,
   "metadata": {},
   "outputs": [],
   "source": []
  },
  {
   "cell_type": "code",
   "execution_count": null,
   "metadata": {},
   "outputs": [],
   "source": []
  }
 ],
 "metadata": {
  "kernelspec": {
   "display_name": "Python 3",
   "language": "python",
   "name": "python3"
  },
  "language_info": {
   "codemirror_mode": {
    "name": "ipython",
    "version": 3
   },
   "file_extension": ".py",
   "mimetype": "text/x-python",
   "name": "python",
   "nbconvert_exporter": "python",
   "pygments_lexer": "ipython3",
   "version": "3.7.0"
  }
 },
 "nbformat": 4,
 "nbformat_minor": 1
}
