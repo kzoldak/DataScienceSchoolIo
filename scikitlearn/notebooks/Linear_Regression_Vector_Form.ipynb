{
 "cells": [
  {
   "cell_type": "markdown",
   "metadata": {},
   "source": [
    "https://www.datascience.com/blog/7-methods-to-fit-linear-model-python"
   ]
  },
  {
   "cell_type": "code",
   "execution_count": 1,
   "metadata": {},
   "outputs": [],
   "source": [
    "import pandas as pd\n",
    "import numpy as np\n",
    "\n",
    "import matplotlib.pyplot as plt\n",
    "%matplotlib inline"
   ]
  },
  {
   "cell_type": "markdown",
   "metadata": {},
   "source": [
    "## read in data"
   ]
  },
  {
   "cell_type": "code",
   "execution_count": 2,
   "metadata": {},
   "outputs": [
    {
     "data": {
      "text/html": [
       "<div>\n",
       "<style scoped>\n",
       "    .dataframe tbody tr th:only-of-type {\n",
       "        vertical-align: middle;\n",
       "    }\n",
       "\n",
       "    .dataframe tbody tr th {\n",
       "        vertical-align: top;\n",
       "    }\n",
       "\n",
       "    .dataframe thead th {\n",
       "        text-align: right;\n",
       "    }\n",
       "</style>\n",
       "<table border=\"1\" class=\"dataframe\">\n",
       "  <thead>\n",
       "    <tr style=\"text-align: right;\">\n",
       "      <th></th>\n",
       "      <th>TV</th>\n",
       "      <th>radio</th>\n",
       "      <th>newspaper</th>\n",
       "      <th>sales</th>\n",
       "    </tr>\n",
       "  </thead>\n",
       "  <tbody>\n",
       "    <tr>\n",
       "      <th>1</th>\n",
       "      <td>230.1</td>\n",
       "      <td>37.8</td>\n",
       "      <td>69.2</td>\n",
       "      <td>22.1</td>\n",
       "    </tr>\n",
       "    <tr>\n",
       "      <th>2</th>\n",
       "      <td>44.5</td>\n",
       "      <td>39.3</td>\n",
       "      <td>45.1</td>\n",
       "      <td>10.4</td>\n",
       "    </tr>\n",
       "    <tr>\n",
       "      <th>3</th>\n",
       "      <td>17.2</td>\n",
       "      <td>45.9</td>\n",
       "      <td>69.3</td>\n",
       "      <td>9.3</td>\n",
       "    </tr>\n",
       "    <tr>\n",
       "      <th>4</th>\n",
       "      <td>151.5</td>\n",
       "      <td>41.3</td>\n",
       "      <td>58.5</td>\n",
       "      <td>18.5</td>\n",
       "    </tr>\n",
       "    <tr>\n",
       "      <th>5</th>\n",
       "      <td>180.8</td>\n",
       "      <td>10.8</td>\n",
       "      <td>58.4</td>\n",
       "      <td>12.9</td>\n",
       "    </tr>\n",
       "  </tbody>\n",
       "</table>\n",
       "</div>"
      ],
      "text/plain": [
       "      TV  radio  newspaper  sales\n",
       "1  230.1   37.8       69.2   22.1\n",
       "2   44.5   39.3       45.1   10.4\n",
       "3   17.2   45.9       69.3    9.3\n",
       "4  151.5   41.3       58.5   18.5\n",
       "5  180.8   10.8       58.4   12.9"
      ]
     },
     "execution_count": 2,
     "metadata": {},
     "output_type": "execute_result"
    }
   ],
   "source": [
    "# read data into a DataFrame\n",
    "data = pd.read_csv('http://www-bcf.usc.edu/~gareth/ISL/Advertising.csv', index_col=0)\n",
    "data.head()"
   ]
  },
  {
   "cell_type": "markdown",
   "metadata": {},
   "source": [
    "https://en.wikipedia.org/wiki/Ordinary_least_squares\n",
    "\n",
    "\n",
    "__Linear Modeling Function:__\n",
    "\n",
    "</br>\n",
    "\n",
    "${\\displaystyle y_{i}=\\beta _{1}x_{i1}+\\beta _{2}x_{i2}+\\cdots +\\beta _{p}x_{ip}+\\varepsilon _{i}}$\n",
    "\n",
    "</br>\n",
    "\n",
    "As a rule, the constant term is always included in the set of regressors $X$, say, by taking $x_{i1} = 1$ for all observations $i = 1, …, n$. The coefficient $\\beta_1$ corresponding to this regressor is called the intercept.\n",
    "\n",
    "\n",
    "\n",
    "__In Vector Form:__\n",
    "\n",
    "</br>\n",
    "\n",
    "${\\displaystyle y_{i}=x_{i}^{T}\\beta +\\varepsilon _{i}\\,}$\n",
    "\n",
    "the $ε_i$'s are unobserved scalar random variables (errors) which account for influences upon the responses yi from sources other than the explanators $x_i$. \n",
    "$x_{i}$ is a column vector of the ith observations of all the explanatory variables.\n",
    "\n",
    "__In Matrix Form:__\n",
    "\n",
    "</br>\n",
    "\n",
    "${\\displaystyle {\\hat {\\boldsymbol {\\beta }}}=(\\mathbf {X} ^{\\mathsf {T}}\\mathbf {X} )^{-1}\\mathbf {X} ^{\\mathsf {T}}\\mathbf {y}}$\n",
    "\n",
    "\n",
    "\n",
    "${\\displaystyle \\mathbf {X} ={\\begin{bmatrix}X_{11}&X_{12}&\\cdots &X_{1p}\\\\X_{21}&X_{22}&\\cdots &X_{2p}\\\\\\vdots &\\vdots &\\ddots &\\vdots \\\\X_{N1}&X_{N2}&\\cdots &X_{Np}\\end{bmatrix}},\\qquad {\\boldsymbol {\\beta }}={\\begin{bmatrix}\\beta _{1}\\\\\\beta _{2}\\\\\\vdots \\\\\\beta _{p}\\end{bmatrix}},\\qquad \\mathbf {y} ={\\begin{bmatrix}y_{1}\\\\y_{2}\\\\\\vdots \\\\y_{N}\\end{bmatrix}}.}$\n",
    "\n",
    "\n",
    "N is the number of observations and p is the number of features, predictors, independent variables, regressors, etc...\n",
    "The terms representing the variables in the training data set have many names. \n",
    "\n",
    "$\\beta$ is the coefficient vector.\n",
    "\n",
    "$y$ is the response vector, or vector of dependent variables. When you are training a model, $y$ is the response that that model should be able to closely predict.  "
   ]
  },
  {
   "cell_type": "markdown",
   "metadata": {},
   "source": [
    "#### The below notes are from Wikipedia, so make sure they match the book. \n",
    "\n",
    "Suppose $\\beta$ is a \"candidate\" value for the parameter vector $\\boldsymbol{\\beta}$. The quantity $y_i − x_i^T \\beta$, called the residual for the _i_th observation, measures the vertical distance between the data point ($x_i$, $y_i$) and the hyperplane $y = x^T \\beta$, and thus assesses the degree of fit between the actual data and the model. The sum of squared residuals (SSR) (also called the error sum of squares (ESS) or residual sum of squares (RSS)) is a measure of the overall model fit:\n",
    "\n",
    "\n",
    "${\\displaystyle RSS(\\beta)=\\sum _{i=1}^{N}(y_{i}-x_{i}^{\\mathrm {T} }\\beta)^{2} = (\\boldsymbol{y}-\\boldsymbol{X}\\beta)^{\\mathrm {T} }(\\boldsymbol{y}-\\boldsymbol{X}\\beta)}$\n",
    "\n",
    "The goal is to find the set of coefficients $\\beta$ that minimize the residual sum of squares (RSS). \n",
    "\n"
   ]
  },
  {
   "cell_type": "markdown",
   "metadata": {},
   "source": [
    "${\\displaystyle RSS(\\beta)= (\\boldsymbol{y}-\\boldsymbol{X}\\beta)^{\\mathrm {T} }(\\boldsymbol{y}-\\boldsymbol{X}\\beta)}$\n",
    "\n",
    "${\\displaystyle {\\hat {\\boldsymbol {\\beta }}}=(\\mathbf {X} ^{\\mathsf {T}}\\mathbf {X} )^{-1}\\mathbf {X} ^{\\mathsf {T}}\\mathbf {y}}$"
   ]
  },
  {
   "cell_type": "code",
   "execution_count": 4,
   "metadata": {},
   "outputs": [
    {
     "name": "stdout",
     "output_type": "stream",
     "text": [
      "(200, 2)\n",
      "(200,)\n",
      "(200, 1)\n"
     ]
    },
    {
     "data": {
      "text/plain": [
       "matrix([[7.03259355],\n",
       "        [0.04753664]])"
      ]
     },
     "execution_count": 4,
     "metadata": {},
     "output_type": "execute_result"
    }
   ],
   "source": [
    "xdata = np.asarray(data.TV)\n",
    "\n",
    "# X = np.vstack([np.ones(len(xdata)), xdata]).T\n",
    "# X = np.asmatrix(X)\n",
    "\n",
    "# OR, A BETTER SOLUTION:\n",
    "X = np.matrix([ np.ones(len(xdata)), xdata ]).T  # shape(200, 2)\n",
    "y = np.asarray(data.sales)\n",
    "\n",
    "print(X.shape)            # (200, 2)\n",
    "print(y.shape)            # (200, )\n",
    "print(np.vstack(y).shape) # (200, 1)\n",
    "\n",
    "beta = ((X.T * X)**-1) * X.T * np.vstack(y)\n",
    "beta\n",
    "\n"
   ]
  },
  {
   "cell_type": "raw",
   "metadata": {},
   "source": [
    "matrix([[0.04753664],\n",
    "        [7.03259355]])"
   ]
  },
  {
   "cell_type": "code",
   "execution_count": null,
   "metadata": {},
   "outputs": [],
   "source": []
  },
  {
   "cell_type": "code",
   "execution_count": 7,
   "metadata": {},
   "outputs": [
    {
     "data": {
      "text/plain": [
       "matrix([[2102.53058313]])"
      ]
     },
     "execution_count": 7,
     "metadata": {},
     "output_type": "execute_result"
    }
   ],
   "source": [
    "RSS = (np.vstack(y) - X * beta).T * (np.vstack(y) - X * beta)\n",
    "RSS"
   ]
  },
  {
   "cell_type": "code",
   "execution_count": 8,
   "metadata": {},
   "outputs": [
    {
     "data": {
      "text/plain": [
       "45.85335956210135"
      ]
     },
     "execution_count": 8,
     "metadata": {},
     "output_type": "execute_result"
    }
   ],
   "source": [
    "np.sqrt(float(RSS))"
   ]
  },
  {
   "cell_type": "markdown",
   "metadata": {},
   "source": [
    "#### Reduced Chi-Squared: RSS/n-p"
   ]
  },
  {
   "cell_type": "markdown",
   "metadata": {},
   "source": [
    "[Projection Matrix](https://en.wikipedia.org/wiki/Projection_matrix)\n",
    "\n",
    "[Identity Matrix](https://en.wikipedia.org/wiki/Identity_matrix)"
   ]
  },
  {
   "cell_type": "markdown",
   "metadata": {},
   "source": [
    "${\\displaystyle \\mathbf {\\hat {y}} =\\mathbf {P} \\mathbf {y} }$"
   ]
  },
  {
   "cell_type": "markdown",
   "metadata": {},
   "source": [
    "$P = X(X^TX)^{−1}X^T$"
   ]
  },
  {
   "cell_type": "code",
   "execution_count": 36,
   "metadata": {},
   "outputs": [],
   "source": [
    "projection_matrix = (X*(X.T*X)**-1) * X.T\n",
    "identity_matrix = np.identity(n=len(X))"
   ]
  },
  {
   "cell_type": "code",
   "execution_count": 37,
   "metadata": {},
   "outputs": [],
   "source": [
    "residual_maker_matrix = identity_matrix - projection_matrix"
   ]
  },
  {
   "cell_type": "markdown",
   "metadata": {},
   "source": [
    "M is the \"residual maker matrix\"\n",
    "\n",
    "M = I − P  \n",
    "\n",
    "I is the identity matrix and P is the projection matrix. Puts a hat onto y."
   ]
  },
  {
   "cell_type": "code",
   "execution_count": 45,
   "metadata": {},
   "outputs": [
    {
     "data": {
      "text/plain": [
       "matrix([[10.61884133]])"
      ]
     },
     "execution_count": 45,
     "metadata": {},
     "output_type": "execute_result"
    }
   ],
   "source": [
    "n,p = X.shape\n",
    "M = residual_maker_matrix\n",
    "s_squared = (np.vstack(y).T * M * np.vstack(y))/(n-p)\n",
    "s_squared  # appears to be same as RSS/(n-p)"
   ]
  },
  {
   "cell_type": "code",
   "execution_count": 46,
   "metadata": {},
   "outputs": [
    {
     "data": {
      "text/plain": [
       "matrix([[10.61884133]])"
      ]
     },
     "execution_count": 46,
     "metadata": {},
     "output_type": "execute_result"
    }
   ],
   "source": [
    "RSS/(n-p)"
   ]
  },
  {
   "cell_type": "code",
   "execution_count": 43,
   "metadata": {},
   "outputs": [
    {
     "data": {
      "text/plain": [
       "10.512652915656668"
      ]
     },
     "execution_count": 43,
     "metadata": {},
     "output_type": "execute_result"
    }
   ],
   "source": [
    "chi_squared = ((n-p)/n) * float(s_squared)\n",
    "chi_squared"
   ]
  },
  {
   "cell_type": "code",
   "execution_count": 47,
   "metadata": {},
   "outputs": [
    {
     "data": {
      "text/plain": [
       "3.242322148654675"
      ]
     },
     "execution_count": 47,
     "metadata": {},
     "output_type": "execute_result"
    }
   ],
   "source": [
    "np.sqrt(10.512652915656668)"
   ]
  },
  {
   "cell_type": "code",
   "execution_count": null,
   "metadata": {},
   "outputs": [],
   "source": []
  },
  {
   "cell_type": "code",
   "execution_count": 9,
   "metadata": {},
   "outputs": [],
   "source": [
    "import statsmodels.formula.api as smf"
   ]
  },
  {
   "cell_type": "code",
   "execution_count": 69,
   "metadata": {},
   "outputs": [],
   "source": [
    "?smf.ols"
   ]
  },
  {
   "cell_type": "code",
   "execution_count": 10,
   "metadata": {},
   "outputs": [],
   "source": [
    "result = smf.ols(formula='sales ~ TV', data=data).fit()"
   ]
  },
  {
   "cell_type": "code",
   "execution_count": 11,
   "metadata": {},
   "outputs": [
    {
     "data": {
      "text/plain": [
       "Intercept    7.032594\n",
       "TV           0.047537\n",
       "dtype: float64"
      ]
     },
     "execution_count": 11,
     "metadata": {},
     "output_type": "execute_result"
    }
   ],
   "source": [
    "result.params"
   ]
  },
  {
   "cell_type": "code",
   "execution_count": 12,
   "metadata": {},
   "outputs": [
    {
     "name": "stdout",
     "output_type": "stream",
     "text": [
      "                            OLS Regression Results                            \n",
      "==============================================================================\n",
      "Dep. Variable:                  sales   R-squared:                       0.612\n",
      "Model:                            OLS   Adj. R-squared:                  0.610\n",
      "Method:                 Least Squares   F-statistic:                     312.1\n",
      "Date:                Sat, 12 Jan 2019   Prob (F-statistic):           1.47e-42\n",
      "Time:                        23:27:47   Log-Likelihood:                -519.05\n",
      "No. Observations:                 200   AIC:                             1042.\n",
      "Df Residuals:                     198   BIC:                             1049.\n",
      "Df Model:                           1                                         \n",
      "Covariance Type:            nonrobust                                         \n",
      "==============================================================================\n",
      "                 coef    std err          t      P>|t|      [0.025      0.975]\n",
      "------------------------------------------------------------------------------\n",
      "Intercept      7.0326      0.458     15.360      0.000       6.130       7.935\n",
      "TV             0.0475      0.003     17.668      0.000       0.042       0.053\n",
      "==============================================================================\n",
      "Omnibus:                        0.531   Durbin-Watson:                   1.935\n",
      "Prob(Omnibus):                  0.767   Jarque-Bera (JB):                0.669\n",
      "Skew:                          -0.089   Prob(JB):                        0.716\n",
      "Kurtosis:                       2.779   Cond. No.                         338.\n",
      "==============================================================================\n",
      "\n",
      "Warnings:\n",
      "[1] Standard Errors assume that the covariance matrix of the errors is correctly specified.\n"
     ]
    }
   ],
   "source": [
    "print(result.summary())"
   ]
  },
  {
   "cell_type": "code",
   "execution_count": 13,
   "metadata": {
    "scrolled": true
   },
   "outputs": [
    {
     "name": "stdout",
     "output_type": "stream",
     "text": [
      "                 Results: Ordinary least squares\n",
      "==================================================================\n",
      "Model:              OLS              Adj. R-squared:     0.610    \n",
      "Dependent Variable: sales            AIC:                1042.0913\n",
      "Date:               2019-01-12 23:27 BIC:                1048.6880\n",
      "No. Observations:   200              Log-Likelihood:     -519.05  \n",
      "Df Model:           1                F-statistic:        312.1    \n",
      "Df Residuals:       198              Prob (F-statistic): 1.47e-42 \n",
      "R-squared:          0.612            Scale:              10.619   \n",
      "--------------------------------------------------------------------\n",
      "              Coef.    Std.Err.      t      P>|t|    [0.025   0.975]\n",
      "--------------------------------------------------------------------\n",
      "Intercept     7.0326     0.4578   15.3603   0.0000   6.1297   7.9355\n",
      "TV            0.0475     0.0027   17.6676   0.0000   0.0422   0.0528\n",
      "------------------------------------------------------------------\n",
      "Omnibus:              0.531         Durbin-Watson:           1.935\n",
      "Prob(Omnibus):        0.767         Jarque-Bera (JB):        0.669\n",
      "Skew:                 -0.089        Prob(JB):                0.716\n",
      "Kurtosis:             2.779         Condition No.:           338  \n",
      "==================================================================\n",
      "\n"
     ]
    }
   ],
   "source": [
    "print(result.summary2())"
   ]
  },
  {
   "cell_type": "markdown",
   "metadata": {},
   "source": [
    "## Scikit-learn"
   ]
  },
  {
   "cell_type": "code",
   "execution_count": 285,
   "metadata": {},
   "outputs": [],
   "source": [
    "from sklearn.linear_model import LinearRegression"
   ]
  },
  {
   "cell_type": "code",
   "execution_count": 286,
   "metadata": {},
   "outputs": [],
   "source": [
    "linreg = LinearRegression( )"
   ]
  },
  {
   "cell_type": "code",
   "execution_count": 287,
   "metadata": {},
   "outputs": [],
   "source": [
    "ones = np.ones(shape=len(data.TV))   # works\n",
    "zeros = np.zeros(shape=len(data.TV)) # works\n",
    "empty = np.empty(shape=len(data.TV)) # works\n",
    "\n",
    "xdata = np.asarray(data.TV)\n",
    "\n",
    "# ALL 3 OF THESE WORK THE SAME. THE SECOND COEFF WILL BE 0 SINCE ITS A DUMMY ARRAY IN X. \n",
    "\n",
    "X = np.asarray(list(zip(xdata, ones)))  # works\n",
    "#X = np.asarray(list(zip(xdata, zeros))) # works\n",
    "#X = np.asarray(list(zip(xdata, empty))) # works\n",
    "\n",
    "y = np.asarray(data.sales)"
   ]
  },
  {
   "cell_type": "code",
   "execution_count": 288,
   "metadata": {},
   "outputs": [
    {
     "name": "stdout",
     "output_type": "stream",
     "text": [
      "7.0325935491276965\n",
      "[0.04753664 0.        ]\n"
     ]
    }
   ],
   "source": [
    "result = linreg.fit(X, y) \n",
    "\n",
    "# print the intercept and coefficients\n",
    "print(result.intercept_)\n",
    "print(result.coef_)"
   ]
  },
  {
   "cell_type": "code",
   "execution_count": 293,
   "metadata": {},
   "outputs": [
    {
     "data": {
      "text/plain": [
       "array([1211.12304443,    0.        ])"
      ]
     },
     "execution_count": 293,
     "metadata": {},
     "output_type": "execute_result"
    }
   ],
   "source": [
    "result.singular_"
   ]
  },
  {
   "cell_type": "markdown",
   "metadata": {},
   "source": [
    "## Using Matrices/Vector Algebra\n",
    "\n",
    "See [Wikipedia page](https://en.wikipedia.org/wiki/Ordinary_least_squares) under the Linear Model section and Matrix/vector formulation subsection. \n",
    "\n",
    "${\\displaystyle {\\hat {\\boldsymbol {\\beta }}}=(\\mathbf {X} ^{\\rm {T}}\\mathbf {X} )^{-1}\\mathbf {X} ^{\\rm {T}}\\mathbf {y} .}$\n",
    "\n",
    "${\\displaystyle \\mathbf {X} ={\\begin{bmatrix}X_{11}&X_{12}&\\cdots &X_{1p}\\\\X_{21}&X_{22}&\\cdots &X_{2p}\\\\\\vdots &\\vdots &\\ddots &\\vdots \\\\X_{n1}&X_{n2}&\\cdots &X_{np}\\end{bmatrix}},\\qquad {\\boldsymbol {\\beta }}={\\begin{bmatrix}\\beta _{1}\\\\\\beta _{2}\\\\\\vdots \\\\\\beta _{p}\\end{bmatrix}},\\qquad \\mathbf {y} ={\\begin{bmatrix}y_{1}\\\\y_{2}\\\\\\vdots \\\\y_{n}\\end{bmatrix}}.}$\n",
    "\n",
    "xdata = np.asarray(data.TV)\n",
    "\n",
    "# X = np.vstack([xdata, np.ones(len(xdata))]).T\n",
    "# X = np.asmatrix(X)\n",
    "\n",
    "# OR, A BETTER SOLUTION:\n",
    "X = np.matrix([xdata, np.ones(len(xdata))]).T  # shape(200, 2)\n",
    "y = np.asarray(data.sales)\n",
    "\n",
    "print(X.shape)            # (200, 2)\n",
    "print(y.shape)            # (200, )\n",
    "print(np.vstack(y).shape) # (200, 1)\n",
    "\n",
    "beta = ((X.T * X)**-1) * X.T * np.vstack(y)\n",
    "beta\n",
    "\n",
    "### USING NUMPY ARRAY DOENS'T WORK FOR X, EVENTHOUGH IT HAS THE SAME SHAPE AND LOOKS THE SAME. "
   ]
  },
  {
   "cell_type": "code",
   "execution_count": 275,
   "metadata": {},
   "outputs": [
    {
     "data": {
      "text/plain": [
       "(200, 2)"
      ]
     },
     "execution_count": 275,
     "metadata": {},
     "output_type": "execute_result"
    }
   ],
   "source": [
    "X.shape"
   ]
  },
  {
   "cell_type": "code",
   "execution_count": 276,
   "metadata": {},
   "outputs": [
    {
     "data": {
      "text/plain": [
       "matrix([[230.1,   1. ],\n",
       "        [ 44.5,   1. ],\n",
       "        [ 17.2,   1. ],\n",
       "        [151.5,   1. ],\n",
       "        [180.8,   1. ],\n",
       "        [  8.7,   1. ],\n",
       "        [ 57.5,   1. ],\n",
       "        [120.2,   1. ],\n",
       "        [  8.6,   1. ],\n",
       "        [199.8,   1. ],\n",
       "        [ 66.1,   1. ],\n",
       "        [214.7,   1. ],\n",
       "        [ 23.8,   1. ],\n",
       "        [ 97.5,   1. ],\n",
       "        [204.1,   1. ],\n",
       "        [195.4,   1. ],\n",
       "        [ 67.8,   1. ],\n",
       "        [281.4,   1. ],\n",
       "        [ 69.2,   1. ],\n",
       "        [147.3,   1. ],\n",
       "        [218.4,   1. ],\n",
       "        [237.4,   1. ],\n",
       "        [ 13.2,   1. ],\n",
       "        [228.3,   1. ],\n",
       "        [ 62.3,   1. ],\n",
       "        [262.9,   1. ],\n",
       "        [142.9,   1. ],\n",
       "        [240.1,   1. ],\n",
       "        [248.8,   1. ],\n",
       "        [ 70.6,   1. ],\n",
       "        [292.9,   1. ],\n",
       "        [112.9,   1. ],\n",
       "        [ 97.2,   1. ],\n",
       "        [265.6,   1. ],\n",
       "        [ 95.7,   1. ],\n",
       "        [290.7,   1. ],\n",
       "        [266.9,   1. ],\n",
       "        [ 74.7,   1. ],\n",
       "        [ 43.1,   1. ],\n",
       "        [228. ,   1. ],\n",
       "        [202.5,   1. ],\n",
       "        [177. ,   1. ],\n",
       "        [293.6,   1. ],\n",
       "        [206.9,   1. ],\n",
       "        [ 25.1,   1. ],\n",
       "        [175.1,   1. ],\n",
       "        [ 89.7,   1. ],\n",
       "        [239.9,   1. ],\n",
       "        [227.2,   1. ],\n",
       "        [ 66.9,   1. ],\n",
       "        [199.8,   1. ],\n",
       "        [100.4,   1. ],\n",
       "        [216.4,   1. ],\n",
       "        [182.6,   1. ],\n",
       "        [262.7,   1. ],\n",
       "        [198.9,   1. ],\n",
       "        [  7.3,   1. ],\n",
       "        [136.2,   1. ],\n",
       "        [210.8,   1. ],\n",
       "        [210.7,   1. ],\n",
       "        [ 53.5,   1. ],\n",
       "        [261.3,   1. ],\n",
       "        [239.3,   1. ],\n",
       "        [102.7,   1. ],\n",
       "        [131.1,   1. ],\n",
       "        [ 69. ,   1. ],\n",
       "        [ 31.5,   1. ],\n",
       "        [139.3,   1. ],\n",
       "        [237.4,   1. ],\n",
       "        [216.8,   1. ],\n",
       "        [199.1,   1. ],\n",
       "        [109.8,   1. ],\n",
       "        [ 26.8,   1. ],\n",
       "        [129.4,   1. ],\n",
       "        [213.4,   1. ],\n",
       "        [ 16.9,   1. ],\n",
       "        [ 27.5,   1. ],\n",
       "        [120.5,   1. ],\n",
       "        [  5.4,   1. ],\n",
       "        [116. ,   1. ],\n",
       "        [ 76.4,   1. ],\n",
       "        [239.8,   1. ],\n",
       "        [ 75.3,   1. ],\n",
       "        [ 68.4,   1. ],\n",
       "        [213.5,   1. ],\n",
       "        [193.2,   1. ],\n",
       "        [ 76.3,   1. ],\n",
       "        [110.7,   1. ],\n",
       "        [ 88.3,   1. ],\n",
       "        [109.8,   1. ],\n",
       "        [134.3,   1. ],\n",
       "        [ 28.6,   1. ],\n",
       "        [217.7,   1. ],\n",
       "        [250.9,   1. ],\n",
       "        [107.4,   1. ],\n",
       "        [163.3,   1. ],\n",
       "        [197.6,   1. ],\n",
       "        [184.9,   1. ],\n",
       "        [289.7,   1. ],\n",
       "        [135.2,   1. ],\n",
       "        [222.4,   1. ],\n",
       "        [296.4,   1. ],\n",
       "        [280.2,   1. ],\n",
       "        [187.9,   1. ],\n",
       "        [238.2,   1. ],\n",
       "        [137.9,   1. ],\n",
       "        [ 25. ,   1. ],\n",
       "        [ 90.4,   1. ],\n",
       "        [ 13.1,   1. ],\n",
       "        [255.4,   1. ],\n",
       "        [225.8,   1. ],\n",
       "        [241.7,   1. ],\n",
       "        [175.7,   1. ],\n",
       "        [209.6,   1. ],\n",
       "        [ 78.2,   1. ],\n",
       "        [ 75.1,   1. ],\n",
       "        [139.2,   1. ],\n",
       "        [ 76.4,   1. ],\n",
       "        [125.7,   1. ],\n",
       "        [ 19.4,   1. ],\n",
       "        [141.3,   1. ],\n",
       "        [ 18.8,   1. ],\n",
       "        [224. ,   1. ],\n",
       "        [123.1,   1. ],\n",
       "        [229.5,   1. ],\n",
       "        [ 87.2,   1. ],\n",
       "        [  7.8,   1. ],\n",
       "        [ 80.2,   1. ],\n",
       "        [220.3,   1. ],\n",
       "        [ 59.6,   1. ],\n",
       "        [  0.7,   1. ],\n",
       "        [265.2,   1. ],\n",
       "        [  8.4,   1. ],\n",
       "        [219.8,   1. ],\n",
       "        [ 36.9,   1. ],\n",
       "        [ 48.3,   1. ],\n",
       "        [ 25.6,   1. ],\n",
       "        [273.7,   1. ],\n",
       "        [ 43. ,   1. ],\n",
       "        [184.9,   1. ],\n",
       "        [ 73.4,   1. ],\n",
       "        [193.7,   1. ],\n",
       "        [220.5,   1. ],\n",
       "        [104.6,   1. ],\n",
       "        [ 96.2,   1. ],\n",
       "        [140.3,   1. ],\n",
       "        [240.1,   1. ],\n",
       "        [243.2,   1. ],\n",
       "        [ 38. ,   1. ],\n",
       "        [ 44.7,   1. ],\n",
       "        [280.7,   1. ],\n",
       "        [121. ,   1. ],\n",
       "        [197.6,   1. ],\n",
       "        [171.3,   1. ],\n",
       "        [187.8,   1. ],\n",
       "        [  4.1,   1. ],\n",
       "        [ 93.9,   1. ],\n",
       "        [149.8,   1. ],\n",
       "        [ 11.7,   1. ],\n",
       "        [131.7,   1. ],\n",
       "        [172.5,   1. ],\n",
       "        [ 85.7,   1. ],\n",
       "        [188.4,   1. ],\n",
       "        [163.5,   1. ],\n",
       "        [117.2,   1. ],\n",
       "        [234.5,   1. ],\n",
       "        [ 17.9,   1. ],\n",
       "        [206.8,   1. ],\n",
       "        [215.4,   1. ],\n",
       "        [284.3,   1. ],\n",
       "        [ 50. ,   1. ],\n",
       "        [164.5,   1. ],\n",
       "        [ 19.6,   1. ],\n",
       "        [168.4,   1. ],\n",
       "        [222.4,   1. ],\n",
       "        [276.9,   1. ],\n",
       "        [248.4,   1. ],\n",
       "        [170.2,   1. ],\n",
       "        [276.7,   1. ],\n",
       "        [165.6,   1. ],\n",
       "        [156.6,   1. ],\n",
       "        [218.5,   1. ],\n",
       "        [ 56.2,   1. ],\n",
       "        [287.6,   1. ],\n",
       "        [253.8,   1. ],\n",
       "        [205. ,   1. ],\n",
       "        [139.5,   1. ],\n",
       "        [191.1,   1. ],\n",
       "        [286. ,   1. ],\n",
       "        [ 18.7,   1. ],\n",
       "        [ 39.5,   1. ],\n",
       "        [ 75.5,   1. ],\n",
       "        [ 17.2,   1. ],\n",
       "        [166.8,   1. ],\n",
       "        [149.7,   1. ],\n",
       "        [ 38.2,   1. ],\n",
       "        [ 94.2,   1. ],\n",
       "        [177. ,   1. ],\n",
       "        [283.6,   1. ],\n",
       "        [232.1,   1. ]])"
      ]
     },
     "execution_count": 276,
     "metadata": {},
     "output_type": "execute_result"
    }
   ],
   "source": [
    "X"
   ]
  },
  {
   "cell_type": "code",
   "execution_count": 277,
   "metadata": {},
   "outputs": [],
   "source": [
    "# THIS HAS SHAPE (200, 2). \n",
    "X = np.asarray( [xdata, np.ones(len(xdata))] ).T"
   ]
  },
  {
   "cell_type": "code",
   "execution_count": 278,
   "metadata": {},
   "outputs": [
    {
     "data": {
      "text/plain": [
       "(200, 2)"
      ]
     },
     "execution_count": 278,
     "metadata": {},
     "output_type": "execute_result"
    }
   ],
   "source": [
    "X.shape"
   ]
  },
  {
   "cell_type": "code",
   "execution_count": 279,
   "metadata": {},
   "outputs": [
    {
     "data": {
      "text/plain": [
       "array([[230.1,   1. ],\n",
       "       [ 44.5,   1. ],\n",
       "       [ 17.2,   1. ],\n",
       "       [151.5,   1. ],\n",
       "       [180.8,   1. ],\n",
       "       [  8.7,   1. ],\n",
       "       [ 57.5,   1. ],\n",
       "       [120.2,   1. ],\n",
       "       [  8.6,   1. ],\n",
       "       [199.8,   1. ],\n",
       "       [ 66.1,   1. ],\n",
       "       [214.7,   1. ],\n",
       "       [ 23.8,   1. ],\n",
       "       [ 97.5,   1. ],\n",
       "       [204.1,   1. ],\n",
       "       [195.4,   1. ],\n",
       "       [ 67.8,   1. ],\n",
       "       [281.4,   1. ],\n",
       "       [ 69.2,   1. ],\n",
       "       [147.3,   1. ],\n",
       "       [218.4,   1. ],\n",
       "       [237.4,   1. ],\n",
       "       [ 13.2,   1. ],\n",
       "       [228.3,   1. ],\n",
       "       [ 62.3,   1. ],\n",
       "       [262.9,   1. ],\n",
       "       [142.9,   1. ],\n",
       "       [240.1,   1. ],\n",
       "       [248.8,   1. ],\n",
       "       [ 70.6,   1. ],\n",
       "       [292.9,   1. ],\n",
       "       [112.9,   1. ],\n",
       "       [ 97.2,   1. ],\n",
       "       [265.6,   1. ],\n",
       "       [ 95.7,   1. ],\n",
       "       [290.7,   1. ],\n",
       "       [266.9,   1. ],\n",
       "       [ 74.7,   1. ],\n",
       "       [ 43.1,   1. ],\n",
       "       [228. ,   1. ],\n",
       "       [202.5,   1. ],\n",
       "       [177. ,   1. ],\n",
       "       [293.6,   1. ],\n",
       "       [206.9,   1. ],\n",
       "       [ 25.1,   1. ],\n",
       "       [175.1,   1. ],\n",
       "       [ 89.7,   1. ],\n",
       "       [239.9,   1. ],\n",
       "       [227.2,   1. ],\n",
       "       [ 66.9,   1. ],\n",
       "       [199.8,   1. ],\n",
       "       [100.4,   1. ],\n",
       "       [216.4,   1. ],\n",
       "       [182.6,   1. ],\n",
       "       [262.7,   1. ],\n",
       "       [198.9,   1. ],\n",
       "       [  7.3,   1. ],\n",
       "       [136.2,   1. ],\n",
       "       [210.8,   1. ],\n",
       "       [210.7,   1. ],\n",
       "       [ 53.5,   1. ],\n",
       "       [261.3,   1. ],\n",
       "       [239.3,   1. ],\n",
       "       [102.7,   1. ],\n",
       "       [131.1,   1. ],\n",
       "       [ 69. ,   1. ],\n",
       "       [ 31.5,   1. ],\n",
       "       [139.3,   1. ],\n",
       "       [237.4,   1. ],\n",
       "       [216.8,   1. ],\n",
       "       [199.1,   1. ],\n",
       "       [109.8,   1. ],\n",
       "       [ 26.8,   1. ],\n",
       "       [129.4,   1. ],\n",
       "       [213.4,   1. ],\n",
       "       [ 16.9,   1. ],\n",
       "       [ 27.5,   1. ],\n",
       "       [120.5,   1. ],\n",
       "       [  5.4,   1. ],\n",
       "       [116. ,   1. ],\n",
       "       [ 76.4,   1. ],\n",
       "       [239.8,   1. ],\n",
       "       [ 75.3,   1. ],\n",
       "       [ 68.4,   1. ],\n",
       "       [213.5,   1. ],\n",
       "       [193.2,   1. ],\n",
       "       [ 76.3,   1. ],\n",
       "       [110.7,   1. ],\n",
       "       [ 88.3,   1. ],\n",
       "       [109.8,   1. ],\n",
       "       [134.3,   1. ],\n",
       "       [ 28.6,   1. ],\n",
       "       [217.7,   1. ],\n",
       "       [250.9,   1. ],\n",
       "       [107.4,   1. ],\n",
       "       [163.3,   1. ],\n",
       "       [197.6,   1. ],\n",
       "       [184.9,   1. ],\n",
       "       [289.7,   1. ],\n",
       "       [135.2,   1. ],\n",
       "       [222.4,   1. ],\n",
       "       [296.4,   1. ],\n",
       "       [280.2,   1. ],\n",
       "       [187.9,   1. ],\n",
       "       [238.2,   1. ],\n",
       "       [137.9,   1. ],\n",
       "       [ 25. ,   1. ],\n",
       "       [ 90.4,   1. ],\n",
       "       [ 13.1,   1. ],\n",
       "       [255.4,   1. ],\n",
       "       [225.8,   1. ],\n",
       "       [241.7,   1. ],\n",
       "       [175.7,   1. ],\n",
       "       [209.6,   1. ],\n",
       "       [ 78.2,   1. ],\n",
       "       [ 75.1,   1. ],\n",
       "       [139.2,   1. ],\n",
       "       [ 76.4,   1. ],\n",
       "       [125.7,   1. ],\n",
       "       [ 19.4,   1. ],\n",
       "       [141.3,   1. ],\n",
       "       [ 18.8,   1. ],\n",
       "       [224. ,   1. ],\n",
       "       [123.1,   1. ],\n",
       "       [229.5,   1. ],\n",
       "       [ 87.2,   1. ],\n",
       "       [  7.8,   1. ],\n",
       "       [ 80.2,   1. ],\n",
       "       [220.3,   1. ],\n",
       "       [ 59.6,   1. ],\n",
       "       [  0.7,   1. ],\n",
       "       [265.2,   1. ],\n",
       "       [  8.4,   1. ],\n",
       "       [219.8,   1. ],\n",
       "       [ 36.9,   1. ],\n",
       "       [ 48.3,   1. ],\n",
       "       [ 25.6,   1. ],\n",
       "       [273.7,   1. ],\n",
       "       [ 43. ,   1. ],\n",
       "       [184.9,   1. ],\n",
       "       [ 73.4,   1. ],\n",
       "       [193.7,   1. ],\n",
       "       [220.5,   1. ],\n",
       "       [104.6,   1. ],\n",
       "       [ 96.2,   1. ],\n",
       "       [140.3,   1. ],\n",
       "       [240.1,   1. ],\n",
       "       [243.2,   1. ],\n",
       "       [ 38. ,   1. ],\n",
       "       [ 44.7,   1. ],\n",
       "       [280.7,   1. ],\n",
       "       [121. ,   1. ],\n",
       "       [197.6,   1. ],\n",
       "       [171.3,   1. ],\n",
       "       [187.8,   1. ],\n",
       "       [  4.1,   1. ],\n",
       "       [ 93.9,   1. ],\n",
       "       [149.8,   1. ],\n",
       "       [ 11.7,   1. ],\n",
       "       [131.7,   1. ],\n",
       "       [172.5,   1. ],\n",
       "       [ 85.7,   1. ],\n",
       "       [188.4,   1. ],\n",
       "       [163.5,   1. ],\n",
       "       [117.2,   1. ],\n",
       "       [234.5,   1. ],\n",
       "       [ 17.9,   1. ],\n",
       "       [206.8,   1. ],\n",
       "       [215.4,   1. ],\n",
       "       [284.3,   1. ],\n",
       "       [ 50. ,   1. ],\n",
       "       [164.5,   1. ],\n",
       "       [ 19.6,   1. ],\n",
       "       [168.4,   1. ],\n",
       "       [222.4,   1. ],\n",
       "       [276.9,   1. ],\n",
       "       [248.4,   1. ],\n",
       "       [170.2,   1. ],\n",
       "       [276.7,   1. ],\n",
       "       [165.6,   1. ],\n",
       "       [156.6,   1. ],\n",
       "       [218.5,   1. ],\n",
       "       [ 56.2,   1. ],\n",
       "       [287.6,   1. ],\n",
       "       [253.8,   1. ],\n",
       "       [205. ,   1. ],\n",
       "       [139.5,   1. ],\n",
       "       [191.1,   1. ],\n",
       "       [286. ,   1. ],\n",
       "       [ 18.7,   1. ],\n",
       "       [ 39.5,   1. ],\n",
       "       [ 75.5,   1. ],\n",
       "       [ 17.2,   1. ],\n",
       "       [166.8,   1. ],\n",
       "       [149.7,   1. ],\n",
       "       [ 38.2,   1. ],\n",
       "       [ 94.2,   1. ],\n",
       "       [177. ,   1. ],\n",
       "       [283.6,   1. ],\n",
       "       [232.1,   1. ]])"
      ]
     },
     "execution_count": 279,
     "metadata": {},
     "output_type": "execute_result"
    }
   ],
   "source": [
    "X"
   ]
  },
  {
   "cell_type": "markdown",
   "metadata": {},
   "source": [
    "Computing beta will throw the following error: \n",
    "\n",
    "    ValueError: operands could not be broadcast together with shapes (2,200) (200,2) "
   ]
  },
  {
   "cell_type": "code",
   "execution_count": 281,
   "metadata": {},
   "outputs": [
    {
     "ename": "ValueError",
     "evalue": "operands could not be broadcast together with shapes (2,200) (200,2) ",
     "output_type": "error",
     "traceback": [
      "\u001b[0;31m---------------------------------------------------------------------------\u001b[0m",
      "\u001b[0;31mValueError\u001b[0m                                Traceback (most recent call last)",
      "\u001b[0;32m<ipython-input-281-b68c576e752f>\u001b[0m in \u001b[0;36m<module>\u001b[0;34m()\u001b[0m\n\u001b[0;32m----> 1\u001b[0;31m \u001b[0mbeta\u001b[0m \u001b[0;34m=\u001b[0m \u001b[0;34m(\u001b[0m\u001b[0;34m(\u001b[0m\u001b[0mX\u001b[0m\u001b[0;34m.\u001b[0m\u001b[0mT\u001b[0m \u001b[0;34m*\u001b[0m \u001b[0mX\u001b[0m\u001b[0;34m)\u001b[0m\u001b[0;34m**\u001b[0m\u001b[0;34m-\u001b[0m\u001b[0;36m1\u001b[0m\u001b[0;34m)\u001b[0m \u001b[0;34m*\u001b[0m \u001b[0mX\u001b[0m\u001b[0;34m.\u001b[0m\u001b[0mT\u001b[0m \u001b[0;34m*\u001b[0m \u001b[0mnp\u001b[0m\u001b[0;34m.\u001b[0m\u001b[0mvstack\u001b[0m\u001b[0;34m(\u001b[0m\u001b[0my\u001b[0m\u001b[0;34m)\u001b[0m\u001b[0;34m\u001b[0m\u001b[0m\n\u001b[0m\u001b[1;32m      2\u001b[0m \u001b[0mbeta\u001b[0m\u001b[0;34m\u001b[0m\u001b[0m\n",
      "\u001b[0;31mValueError\u001b[0m: operands could not be broadcast together with shapes (2,200) (200,2) "
     ]
    }
   ],
   "source": [
    "beta = ((X.T * X)**-1) * X.T * np.vstack(y)\n",
    "beta"
   ]
  },
  {
   "cell_type": "markdown",
   "metadata": {},
   "source": [
    "#### The matrix:"
   ]
  },
  {
   "cell_type": "code",
   "execution_count": 283,
   "metadata": {},
   "outputs": [
    {
     "data": {
      "text/plain": [
       "matrix([[482108.34],\n",
       "        [  2804.5 ]])"
      ]
     },
     "execution_count": 283,
     "metadata": {},
     "output_type": "execute_result"
    }
   ],
   "source": [
    "X = np.matrix([xdata, np.ones(len(xdata))]).T  # shape(200, 2)\n",
    "X.T * np.vstack(y)"
   ]
  },
  {
   "cell_type": "markdown",
   "metadata": {},
   "source": [
    "#### The array:"
   ]
  },
  {
   "cell_type": "code",
   "execution_count": 284,
   "metadata": {},
   "outputs": [
    {
     "ename": "ValueError",
     "evalue": "operands could not be broadcast together with shapes (2,200) (200,1) ",
     "output_type": "error",
     "traceback": [
      "\u001b[0;31m---------------------------------------------------------------------------\u001b[0m",
      "\u001b[0;31mValueError\u001b[0m                                Traceback (most recent call last)",
      "\u001b[0;32m<ipython-input-284-17bbe7e2a174>\u001b[0m in \u001b[0;36m<module>\u001b[0;34m()\u001b[0m\n\u001b[1;32m      1\u001b[0m \u001b[0mX\u001b[0m \u001b[0;34m=\u001b[0m \u001b[0mnp\u001b[0m\u001b[0;34m.\u001b[0m\u001b[0masarray\u001b[0m\u001b[0;34m(\u001b[0m \u001b[0;34m[\u001b[0m\u001b[0mxdata\u001b[0m\u001b[0;34m,\u001b[0m \u001b[0mnp\u001b[0m\u001b[0;34m.\u001b[0m\u001b[0mones\u001b[0m\u001b[0;34m(\u001b[0m\u001b[0mlen\u001b[0m\u001b[0;34m(\u001b[0m\u001b[0mxdata\u001b[0m\u001b[0;34m)\u001b[0m\u001b[0;34m)\u001b[0m\u001b[0;34m]\u001b[0m \u001b[0;34m)\u001b[0m\u001b[0;34m.\u001b[0m\u001b[0mT\u001b[0m\u001b[0;34m\u001b[0m\u001b[0m\n\u001b[0;32m----> 2\u001b[0;31m \u001b[0mX\u001b[0m\u001b[0;34m.\u001b[0m\u001b[0mT\u001b[0m \u001b[0;34m*\u001b[0m \u001b[0mnp\u001b[0m\u001b[0;34m.\u001b[0m\u001b[0mvstack\u001b[0m\u001b[0;34m(\u001b[0m\u001b[0my\u001b[0m\u001b[0;34m)\u001b[0m\u001b[0;34m\u001b[0m\u001b[0m\n\u001b[0m",
      "\u001b[0;31mValueError\u001b[0m: operands could not be broadcast together with shapes (2,200) (200,1) "
     ]
    }
   ],
   "source": [
    "X = np.asarray( [xdata, np.ones(len(xdata))] ).T\n",
    "X.T * np.vstack(y)"
   ]
  },
  {
   "cell_type": "code",
   "execution_count": null,
   "metadata": {},
   "outputs": [],
   "source": []
  }
 ],
 "metadata": {
  "kernelspec": {
   "display_name": "Python 3",
   "language": "python",
   "name": "python3"
  },
  "language_info": {
   "codemirror_mode": {
    "name": "ipython",
    "version": 3
   },
   "file_extension": ".py",
   "mimetype": "text/x-python",
   "name": "python",
   "nbconvert_exporter": "python",
   "pygments_lexer": "ipython3",
   "version": "3.7.0"
  }
 },
 "nbformat": 4,
 "nbformat_minor": 2
}
