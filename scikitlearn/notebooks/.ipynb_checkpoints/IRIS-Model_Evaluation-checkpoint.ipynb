{
 "cells": [
  {
   "cell_type": "code",
   "execution_count": 74,
   "metadata": {},
   "outputs": [],
   "source": [
    "import numpy as np, pandas as pd\n",
    "\n",
    "import matplotlib.pyplot as plt\n",
    "%matplotlib inline\n",
    "\n",
    "from sklearn.linear_model import LogisticRegression"
   ]
  },
  {
   "cell_type": "code",
   "execution_count": 75,
   "metadata": {},
   "outputs": [],
   "source": [
    "# READ DATA INTO A PANDAS DATAFRAME\n",
    "data = pd.read_csv('http://archive.ics.uci.edu/ml/machine-learning-databases/iris/iris.data',\n",
    "                   header=None)\n",
    "colnames = ['sepal_length', 'sepal_width', 'petal_length', 'petal_width', 'species']\n",
    "\n",
    "data.columns = colnames\n",
    "\n",
    "# ASSIGN A NUMBER TO EACH UNIQUE SPECIES. WILL USE THESE NUMBERS INSTEAD OF NAMES.\n",
    "data['Species'] = data['species'].map( {'Iris-setosa': 0, \n",
    "                                        'Iris-versicolor': 1, \n",
    "                                        'Iris-virginica': 2} ).astype(int)"
   ]
  },
  {
   "cell_type": "markdown",
   "metadata": {},
   "source": [
    "# Logistic Regression Evaluation"
   ]
  },
  {
   "cell_type": "code",
   "execution_count": 76,
   "metadata": {},
   "outputs": [],
   "source": [
    "logreg = LogisticRegression()"
   ]
  },
  {
   "cell_type": "code",
   "execution_count": 77,
   "metadata": {},
   "outputs": [],
   "source": [
    "xcol = 'sepal_length'\n",
    "ycol = 'sepal_width'\n",
    "\n",
    "X = data.loc[:, [xcol, ycol]]\n",
    "y = data.Species"
   ]
  },
  {
   "cell_type": "code",
   "execution_count": 78,
   "metadata": {},
   "outputs": [
    {
     "data": {
      "text/plain": [
       "LogisticRegression(C=1.0, class_weight=None, dual=False, fit_intercept=True,\n",
       "          intercept_scaling=1, max_iter=100, multi_class='ovr', n_jobs=1,\n",
       "          penalty='l2', random_state=None, solver='liblinear', tol=0.0001,\n",
       "          verbose=0, warm_start=False)"
      ]
     },
     "execution_count": 78,
     "metadata": {},
     "output_type": "execute_result"
    }
   ],
   "source": [
    "logreg.fit(X, y)"
   ]
  },
  {
   "cell_type": "code",
   "execution_count": 79,
   "metadata": {},
   "outputs": [],
   "source": [
    "# predict the response for the entire dataset\n",
    "\n",
    "response = logreg.predict(X)"
   ]
  },
  {
   "cell_type": "code",
   "execution_count": 80,
   "metadata": {},
   "outputs": [
    {
     "data": {
      "text/plain": [
       "array([ True,  True,  True,  True,  True,  True,  True,  True,  True,\n",
       "        True,  True,  True,  True,  True,  True,  True,  True,  True,\n",
       "        True,  True,  True,  True,  True,  True,  True,  True,  True,\n",
       "        True,  True,  True,  True,  True,  True,  True,  True,  True,\n",
       "        True,  True,  True,  True,  True, False,  True,  True,  True,\n",
       "        True,  True,  True,  True,  True, False, False, False,  True,\n",
       "       False,  True, False,  True, False,  True,  True, False, False,\n",
       "       False,  True, False,  True, False, False,  True,  True, False,\n",
       "       False, False, False, False, False, False, False,  True,  True,\n",
       "        True, False, False, False, False, False, False,  True,  True,\n",
       "        True, False, False,  True,  True,  True,  True, False,  True,\n",
       "        True,  True,  True,  True,  True,  True,  True, False,  True,\n",
       "        True,  True,  True,  True,  True, False, False,  True,  True,\n",
       "        True,  True,  True,  True, False,  True,  True,  True,  True,\n",
       "        True,  True,  True,  True,  True,  True,  True,  True,  True,\n",
       "        True,  True,  True,  True,  True,  True,  True,  True,  True,\n",
       "        True,  True,  True,  True, False,  True])"
      ]
     },
     "execution_count": 80,
     "metadata": {},
     "output_type": "execute_result"
    }
   ],
   "source": [
    "response == np.asarray(y)"
   ]
  },
  {
   "cell_type": "code",
   "execution_count": 81,
   "metadata": {},
   "outputs": [],
   "source": [
    "comparison = (response == np.asarray(y))"
   ]
  },
  {
   "cell_type": "code",
   "execution_count": 82,
   "metadata": {},
   "outputs": [
    {
     "data": {
      "text/plain": [
       "array([ True,  True,  True,  True,  True,  True,  True,  True,  True,\n",
       "        True,  True,  True,  True,  True,  True,  True,  True,  True,\n",
       "        True,  True,  True,  True,  True,  True,  True,  True,  True,\n",
       "        True,  True,  True,  True,  True,  True,  True,  True,  True,\n",
       "        True,  True,  True,  True,  True, False,  True,  True,  True,\n",
       "        True,  True,  True,  True,  True, False, False, False,  True,\n",
       "       False,  True, False,  True, False,  True,  True, False, False,\n",
       "       False,  True, False,  True, False, False,  True,  True, False,\n",
       "       False, False, False, False, False, False, False,  True,  True,\n",
       "        True, False, False, False, False, False, False,  True,  True,\n",
       "        True, False, False,  True,  True,  True,  True, False,  True,\n",
       "        True,  True,  True,  True,  True,  True,  True, False,  True,\n",
       "        True,  True,  True,  True,  True, False, False,  True,  True,\n",
       "        True,  True,  True,  True, False,  True,  True,  True,  True,\n",
       "        True,  True,  True,  True,  True,  True,  True,  True,  True,\n",
       "        True,  True,  True,  True,  True,  True,  True,  True,  True,\n",
       "        True,  True,  True,  True, False,  True])"
      ]
     },
     "execution_count": 82,
     "metadata": {},
     "output_type": "execute_result"
    }
   ],
   "source": [
    "comparison  # an array of True and False. How many True?"
   ]
  },
  {
   "cell_type": "code",
   "execution_count": 83,
   "metadata": {},
   "outputs": [],
   "source": [
    "comparison = pd.Series(comparison)"
   ]
  },
  {
   "cell_type": "code",
   "execution_count": 84,
   "metadata": {},
   "outputs": [
    {
     "data": {
      "text/plain": [
       "True     115\n",
       "False     35\n",
       "dtype: int64"
      ]
     },
     "execution_count": 84,
     "metadata": {},
     "output_type": "execute_result"
    }
   ],
   "source": [
    "comparison.value_counts()"
   ]
  },
  {
   "cell_type": "code",
   "execution_count": 85,
   "metadata": {},
   "outputs": [
    {
     "data": {
      "text/plain": [
       "0.7666666666666667"
      ]
     },
     "execution_count": 85,
     "metadata": {},
     "output_type": "execute_result"
    }
   ],
   "source": [
    "comparison.sum()/len(comparison)  # 76% of the responses match their actual species."
   ]
  },
  {
   "cell_type": "markdown",
   "metadata": {},
   "source": [
    "### 76% of the responses match their actual species when Logistic Regression is used."
   ]
  },
  {
   "cell_type": "markdown",
   "metadata": {},
   "source": [
    "  "
   ]
  },
  {
   "cell_type": "markdown",
   "metadata": {},
   "source": [
    "# K Nearest Neighbors, k=1"
   ]
  },
  {
   "cell_type": "code",
   "execution_count": 86,
   "metadata": {},
   "outputs": [],
   "source": [
    "from sklearn.neighbors import KNeighborsClassifier"
   ]
  },
  {
   "cell_type": "code",
   "execution_count": 87,
   "metadata": {},
   "outputs": [],
   "source": [
    "knn = KNeighborsClassifier(n_neighbors=1)"
   ]
  },
  {
   "cell_type": "code",
   "execution_count": 88,
   "metadata": {},
   "outputs": [
    {
     "data": {
      "text/plain": [
       "KNeighborsClassifier(algorithm='auto', leaf_size=30, metric='minkowski',\n",
       "           metric_params=None, n_jobs=1, n_neighbors=1, p=2,\n",
       "           weights='uniform')"
      ]
     },
     "execution_count": 88,
     "metadata": {},
     "output_type": "execute_result"
    }
   ],
   "source": [
    "knn.fit(X,y)"
   ]
  },
  {
   "cell_type": "code",
   "execution_count": 89,
   "metadata": {},
   "outputs": [],
   "source": [
    "response = knn.predict(X)"
   ]
  },
  {
   "cell_type": "code",
   "execution_count": 90,
   "metadata": {},
   "outputs": [],
   "source": [
    "comparison = response == np.asarray(y)"
   ]
  },
  {
   "cell_type": "code",
   "execution_count": 91,
   "metadata": {},
   "outputs": [
    {
     "data": {
      "text/plain": [
       "0.9266666666666666"
      ]
     },
     "execution_count": 91,
     "metadata": {},
     "output_type": "execute_result"
    }
   ],
   "source": [
    "comparison.sum()/len(comparison) # 0.9266666666666666"
   ]
  },
  {
   "cell_type": "markdown",
   "metadata": {},
   "source": [
    "### 93% of the responses match their actual species when K Nearest Neighbors (k=1) is used."
   ]
  },
  {
   "cell_type": "code",
   "execution_count": 92,
   "metadata": {},
   "outputs": [
    {
     "data": {
      "text/plain": [
       "0.8333333333333334"
      ]
     },
     "execution_count": 92,
     "metadata": {},
     "output_type": "execute_result"
    }
   ],
   "source": [
    "knn = KNeighborsClassifier(n_neighbors=5)\n",
    "knn.fit(X,y)\n",
    "response = knn.predict(X)\n",
    "comparison = response == np.asarray(y)\n",
    "comparison.sum()/len(comparison) # 0.8333333333333334"
   ]
  },
  {
   "cell_type": "markdown",
   "metadata": {},
   "source": [
    "### 83% of the responses match their actual species when K Nearest Neighbors (k=5) is used."
   ]
  },
  {
   "cell_type": "code",
   "execution_count": null,
   "metadata": {},
   "outputs": [],
   "source": [
    "fractions = []\n",
    "for n in range(1, 50): #[1,2,3,4,5,6,7,8,9,10,15,20]:\n",
    "    knn = KNeighborsClassifier(n_neighbors=n)\n",
    "    knn.fit(X,y)\n",
    "    response = knn.predict(X)\n",
    "    comparison = response == np.asarray(y)\n",
    "    frac = comparison.sum()/len(comparison)\n",
    "    fractions.append(frac)\n",
    "    print('k = %2i:   %6.3f'%(n, frac))"
   ]
  },
  {
   "cell_type": "code",
   "execution_count": 93,
   "metadata": {},
   "outputs": [
    {
     "name": "stdout",
     "output_type": "stream",
     "text": [
      "k =  1:    0.927\n",
      "k =  2:    0.873\n",
      "k =  3:    0.853\n",
      "k =  4:    0.827\n",
      "k =  5:    0.833\n",
      "k =  6:    0.840\n",
      "k =  7:    0.827\n",
      "k =  8:    0.813\n",
      "k =  9:    0.853\n",
      "k = 10:    0.847\n",
      "k = 11:    0.833\n",
      "k = 12:    0.827\n",
      "k = 13:    0.820\n",
      "k = 14:    0.827\n",
      "k = 15:    0.807\n",
      "k = 16:    0.820\n",
      "k = 17:    0.807\n",
      "k = 18:    0.800\n",
      "k = 19:    0.793\n",
      "k = 20:    0.793\n",
      "k = 21:    0.793\n",
      "k = 22:    0.800\n",
      "k = 23:    0.807\n",
      "k = 24:    0.807\n",
      "k = 25:    0.807\n",
      "k = 26:    0.813\n",
      "k = 27:    0.820\n",
      "k = 28:    0.820\n",
      "k = 29:    0.813\n",
      "k = 30:    0.840\n",
      "k = 31:    0.833\n",
      "k = 32:    0.827\n",
      "k = 33:    0.820\n",
      "k = 34:    0.813\n",
      "k = 35:    0.820\n",
      "k = 36:    0.827\n",
      "k = 37:    0.820\n",
      "k = 38:    0.827\n",
      "k = 39:    0.827\n",
      "k = 40:    0.827\n",
      "k = 41:    0.813\n",
      "k = 42:    0.820\n",
      "k = 43:    0.813\n",
      "k = 44:    0.827\n",
      "k = 45:    0.827\n",
      "k = 46:    0.820\n",
      "k = 47:    0.820\n",
      "k = 48:    0.827\n",
      "k = 49:    0.827\n"
     ]
    }
   ],
   "source": [
    "plt.plot(range(1, 50), fractions, 'r-')\n",
    "plt.xlabel('number of neighbors')\n",
    "plt.ylabel('fraction of successful predictions')"
   ]
  },
  {
   "cell_type": "markdown",
   "metadata": {},
   "source": [
    "   "
   ]
  },
  {
   "cell_type": "markdown",
   "metadata": {},
   "source": [
    "# Numerical Way to Evaluate how well our Model Performed"
   ]
  },
  {
   "cell_type": "code",
   "execution_count": 95,
   "metadata": {},
   "outputs": [],
   "source": [
    "from sklearn import metrics"
   ]
  },
  {
   "cell_type": "code",
   "execution_count": 96,
   "metadata": {},
   "outputs": [
    {
     "name": "stdout",
     "output_type": "stream",
     "text": [
      "0.7666666666666667\n"
     ]
    }
   ],
   "source": [
    "logreg = LogisticRegression()\n",
    "X = data.loc[:, [xcol, ycol]]\n",
    "y = data.Species\n",
    "logreg.fit(X, y)\n",
    "y_pred = logreg.predict(X)\n",
    "print(metrics.accuracy_score(y, y_pred))"
   ]
  },
  {
   "cell_type": "code",
   "execution_count": 97,
   "metadata": {},
   "outputs": [
    {
     "name": "stdout",
     "output_type": "stream",
     "text": [
      "k =  1:    0.927   0.927\n",
      "k =  2:    0.873   0.873\n",
      "k =  3:    0.853   0.853\n",
      "k =  4:    0.827   0.827\n",
      "k =  5:    0.833   0.833\n",
      "k =  6:    0.840   0.840\n",
      "k =  7:    0.827   0.827\n",
      "k =  8:    0.813   0.813\n",
      "k =  9:    0.853   0.853\n"
     ]
    }
   ],
   "source": [
    "fractions = []\n",
    "for n in range(1, 10): \n",
    "    knn = KNeighborsClassifier(n_neighbors=n)\n",
    "    knn.fit(X,y)\n",
    "    response = knn.predict(X)\n",
    "    comparison = response == np.asarray(y)\n",
    "    frac = comparison.sum()/len(comparison)\n",
    "    #print(metrics.accuracy_score(y, y_pred))\n",
    "    print('k = %2i:   %6.3f  %6.3f'%(n, frac, metrics.accuracy_score(y, response)))"
   ]
  },
  {
   "cell_type": "markdown",
   "metadata": {},
   "source": [
    "scikit-learn's version of the fraction of correct predictions is: \n",
    "    \n",
    "    metrics.accuracy_score(y, y_pred)"
   ]
  },
  {
   "cell_type": "markdown",
   "metadata": {},
   "source": [
    "### All of the above were for only columns:  'sepal_length' and 'sepal_width'.  What if we use the FULL dataset (all columns) for the training data?"
   ]
  },
  {
   "cell_type": "code",
   "execution_count": 98,
   "metadata": {},
   "outputs": [
    {
     "data": {
      "text/html": [
       "<div>\n",
       "<style scoped>\n",
       "    .dataframe tbody tr th:only-of-type {\n",
       "        vertical-align: middle;\n",
       "    }\n",
       "\n",
       "    .dataframe tbody tr th {\n",
       "        vertical-align: top;\n",
       "    }\n",
       "\n",
       "    .dataframe thead th {\n",
       "        text-align: right;\n",
       "    }\n",
       "</style>\n",
       "<table border=\"1\" class=\"dataframe\">\n",
       "  <thead>\n",
       "    <tr style=\"text-align: right;\">\n",
       "      <th></th>\n",
       "      <th>sepal_length</th>\n",
       "      <th>sepal_width</th>\n",
       "      <th>petal_length</th>\n",
       "      <th>petal_width</th>\n",
       "      <th>species</th>\n",
       "      <th>Species</th>\n",
       "    </tr>\n",
       "  </thead>\n",
       "  <tbody>\n",
       "    <tr>\n",
       "      <th>0</th>\n",
       "      <td>5.1</td>\n",
       "      <td>3.5</td>\n",
       "      <td>1.4</td>\n",
       "      <td>0.2</td>\n",
       "      <td>Iris-setosa</td>\n",
       "      <td>0</td>\n",
       "    </tr>\n",
       "    <tr>\n",
       "      <th>1</th>\n",
       "      <td>4.9</td>\n",
       "      <td>3.0</td>\n",
       "      <td>1.4</td>\n",
       "      <td>0.2</td>\n",
       "      <td>Iris-setosa</td>\n",
       "      <td>0</td>\n",
       "    </tr>\n",
       "    <tr>\n",
       "      <th>2</th>\n",
       "      <td>4.7</td>\n",
       "      <td>3.2</td>\n",
       "      <td>1.3</td>\n",
       "      <td>0.2</td>\n",
       "      <td>Iris-setosa</td>\n",
       "      <td>0</td>\n",
       "    </tr>\n",
       "    <tr>\n",
       "      <th>3</th>\n",
       "      <td>4.6</td>\n",
       "      <td>3.1</td>\n",
       "      <td>1.5</td>\n",
       "      <td>0.2</td>\n",
       "      <td>Iris-setosa</td>\n",
       "      <td>0</td>\n",
       "    </tr>\n",
       "    <tr>\n",
       "      <th>4</th>\n",
       "      <td>5.0</td>\n",
       "      <td>3.6</td>\n",
       "      <td>1.4</td>\n",
       "      <td>0.2</td>\n",
       "      <td>Iris-setosa</td>\n",
       "      <td>0</td>\n",
       "    </tr>\n",
       "  </tbody>\n",
       "</table>\n",
       "</div>"
      ],
      "text/plain": [
       "   sepal_length  sepal_width  petal_length  petal_width      species  Species\n",
       "0           5.1          3.5           1.4          0.2  Iris-setosa        0\n",
       "1           4.9          3.0           1.4          0.2  Iris-setosa        0\n",
       "2           4.7          3.2           1.3          0.2  Iris-setosa        0\n",
       "3           4.6          3.1           1.5          0.2  Iris-setosa        0\n",
       "4           5.0          3.6           1.4          0.2  Iris-setosa        0"
      ]
     },
     "execution_count": 98,
     "metadata": {},
     "output_type": "execute_result"
    }
   ],
   "source": [
    "data.head()"
   ]
  },
  {
   "cell_type": "code",
   "execution_count": 99,
   "metadata": {},
   "outputs": [
    {
     "name": "stdout",
     "output_type": "stream",
     "text": [
      "0.96\n",
      "1.0\n",
      "0.9666666666666667\n"
     ]
    }
   ],
   "source": [
    "X = data.loc[:, :'petal_width']\n",
    "y = data.Species\n",
    "\n",
    "\n",
    "logreg = LogisticRegression()\n",
    "logreg.fit(X, y)\n",
    "y_pred = logreg.predict(X)\n",
    "print(metrics.accuracy_score(y, y_pred))\n",
    "\n",
    "\n",
    "# 1 neighbor\n",
    "knn = KNeighborsClassifier(n_neighbors=1)\n",
    "knn.fit(X,y)\n",
    "response = knn.predict(X)\n",
    "print(metrics.accuracy_score(y, response))\n",
    "\n",
    "\n",
    "# 5 neighbors\n",
    "knn = KNeighborsClassifier(n_neighbors=5)\n",
    "knn.fit(X,y)\n",
    "response = knn.predict(X)\n",
    "print(metrics.accuracy_score(y, response))"
   ]
  },
  {
   "cell_type": "markdown",
   "metadata": {},
   "source": [
    "## For the full dataset, with all its features, knn with k=1 was the best model to use for this data.  HOWEVER, it SHOULD give you 100% training accuracy because thats how it was built. \n"
   ]
  },
  {
   "cell_type": "code",
   "execution_count": 100,
   "metadata": {},
   "outputs": [
    {
     "name": "stdout",
     "output_type": "stream",
     "text": [
      "k =  1:    1.000   1.000\n",
      "k =  2:    0.980   0.980\n",
      "k =  3:    0.960   0.960\n",
      "k =  4:    0.960   0.960\n",
      "k =  5:    0.967   0.967\n",
      "k =  6:    0.973   0.973\n",
      "k =  7:    0.973   0.973\n",
      "k =  8:    0.980   0.980\n",
      "k =  9:    0.980   0.980\n",
      "k = 10:    0.980   0.980\n",
      "k = 11:    0.973   0.973\n",
      "k = 12:    0.980   0.980\n",
      "k = 13:    0.980   0.980\n",
      "k = 14:    0.980   0.980\n",
      "k = 15:    0.987   0.987\n",
      "k = 16:    0.987   0.987\n",
      "k = 17:    0.980   0.980\n",
      "k = 18:    0.973   0.973\n",
      "k = 19:    0.980   0.980\n",
      "k = 20:    0.980   0.980\n",
      "k = 21:    0.980   0.980\n",
      "k = 22:    0.980   0.980\n",
      "k = 23:    0.980   0.980\n",
      "k = 24:    0.973   0.973\n",
      "k = 25:    0.980   0.980\n",
      "k = 26:    0.973   0.973\n",
      "k = 27:    0.973   0.973\n",
      "k = 28:    0.967   0.967\n",
      "k = 29:    0.973   0.973\n",
      "k = 30:    0.953   0.953\n",
      "k = 31:    0.960   0.960\n",
      "k = 32:    0.953   0.953\n",
      "k = 33:    0.960   0.960\n",
      "k = 34:    0.960   0.960\n",
      "k = 35:    0.960   0.960\n",
      "k = 36:    0.953   0.953\n",
      "k = 37:    0.960   0.960\n",
      "k = 38:    0.947   0.947\n",
      "k = 39:    0.953   0.953\n",
      "k = 40:    0.953   0.953\n",
      "k = 41:    0.953   0.953\n",
      "k = 42:    0.953   0.953\n",
      "k = 43:    0.947   0.947\n",
      "k = 44:    0.953   0.953\n",
      "k = 45:    0.947   0.947\n",
      "k = 46:    0.947   0.947\n",
      "k = 47:    0.953   0.953\n",
      "k = 48:    0.947   0.947\n",
      "k = 49:    0.960   0.960\n"
     ]
    }
   ],
   "source": [
    "X = data.loc[:, :'petal_width']\n",
    "y = data.Species\n",
    "\n",
    "fractions = []\n",
    "for n in range(1, 50): \n",
    "    knn = KNeighborsClassifier(n_neighbors=n)\n",
    "    knn.fit(X,y)\n",
    "    response = knn.predict(X)\n",
    "    comparison = response == np.asarray(y)\n",
    "    frac = comparison.sum()/len(comparison)\n",
    "    fractions.append(frac)\n",
    "    print('k = %2i:   %6.3f  %6.3f'%(n, frac, metrics.accuracy_score(y, response)))"
   ]
  },
  {
   "cell_type": "code",
   "execution_count": 101,
   "metadata": {},
   "outputs": [
    {
     "data": {
      "text/plain": [
       "Text(0, 0.5, 'fraction of successful predictions')"
      ]
     },
     "execution_count": 101,
     "metadata": {},
     "output_type": "execute_result"
    },
    {
     "data": {
      "image/png": "[encoded data removed]",
      "text/plain": [
       "<Figure size 432x288 with 1 Axes>"
      ]
     },
     "metadata": {
      "needs_background": "light"
     },
     "output_type": "display_data"
    }
   ],
   "source": [
    "plt.plot(range(1, 50), fractions, 'r-')\n",
    "plt.xlabel('number of neighbors')\n",
    "plt.ylabel('fraction of successful predictions')"
   ]
  },
  {
   "cell_type": "markdown",
   "metadata": {},
   "source": [
    "   "
   ]
  },
  {
   "cell_type": "markdown",
   "metadata": {},
   "source": [
    "# Train Test Split"
   ]
  },
  {
   "cell_type": "raw",
   "metadata": {},
   "source": [
    "# READ DATA INTO A PANDAS DATAFRAME\n",
    "data = pd.read_csv('http://archive.ics.uci.edu/ml/machine-learning-databases/iris/iris.data',\n",
    "                   header=None)\n",
    "colnames = ['sepal_length', 'sepal_width', 'petal_length', 'petal_width', 'species']\n",
    "\n",
    "data.columns = colnames\n",
    "\n",
    "# ASSIGN A NUMBER TO EACH UNIQUE SPECIES. WILL USE THESE NUMBERS INSTEAD OF NAMES.\n",
    "data['Species'] = data['species'].map( {'Iris-setosa': 0, \n",
    "                                        'Iris-versicolor': 1, \n",
    "                                        'Iris-virginica': 2} ).astype(int)"
   ]
  },
  {
   "cell_type": "code",
   "execution_count": 103,
   "metadata": {},
   "outputs": [
    {
     "data": {
      "text/html": [
       "<div>\n",
       "<style scoped>\n",
       "    .dataframe tbody tr th:only-of-type {\n",
       "        vertical-align: middle;\n",
       "    }\n",
       "\n",
       "    .dataframe tbody tr th {\n",
       "        vertical-align: top;\n",
       "    }\n",
       "\n",
       "    .dataframe thead th {\n",
       "        text-align: right;\n",
       "    }\n",
       "</style>\n",
       "<table border=\"1\" class=\"dataframe\">\n",
       "  <thead>\n",
       "    <tr style=\"text-align: right;\">\n",
       "      <th></th>\n",
       "      <th>sepal_length</th>\n",
       "      <th>sepal_width</th>\n",
       "      <th>petal_length</th>\n",
       "      <th>petal_width</th>\n",
       "    </tr>\n",
       "  </thead>\n",
       "  <tbody>\n",
       "    <tr>\n",
       "      <th>0</th>\n",
       "      <td>5.1</td>\n",
       "      <td>3.5</td>\n",
       "      <td>1.4</td>\n",
       "      <td>0.2</td>\n",
       "    </tr>\n",
       "    <tr>\n",
       "      <th>1</th>\n",
       "      <td>4.9</td>\n",
       "      <td>3.0</td>\n",
       "      <td>1.4</td>\n",
       "      <td>0.2</td>\n",
       "    </tr>\n",
       "    <tr>\n",
       "      <th>2</th>\n",
       "      <td>4.7</td>\n",
       "      <td>3.2</td>\n",
       "      <td>1.3</td>\n",
       "      <td>0.2</td>\n",
       "    </tr>\n",
       "    <tr>\n",
       "      <th>3</th>\n",
       "      <td>4.6</td>\n",
       "      <td>3.1</td>\n",
       "      <td>1.5</td>\n",
       "      <td>0.2</td>\n",
       "    </tr>\n",
       "    <tr>\n",
       "      <th>4</th>\n",
       "      <td>5.0</td>\n",
       "      <td>3.6</td>\n",
       "      <td>1.4</td>\n",
       "      <td>0.2</td>\n",
       "    </tr>\n",
       "  </tbody>\n",
       "</table>\n",
       "</div>"
      ],
      "text/plain": [
       "   sepal_length  sepal_width  petal_length  petal_width\n",
       "0           5.1          3.5           1.4          0.2\n",
       "1           4.9          3.0           1.4          0.2\n",
       "2           4.7          3.2           1.3          0.2\n",
       "3           4.6          3.1           1.5          0.2\n",
       "4           5.0          3.6           1.4          0.2"
      ]
     },
     "execution_count": 103,
     "metadata": {},
     "output_type": "execute_result"
    }
   ],
   "source": [
    "X.head()"
   ]
  },
  {
   "cell_type": "code",
   "execution_count": 104,
   "metadata": {},
   "outputs": [],
   "source": [
    "# STEP 1: split X and y into training and testing sets\n",
    "from sklearn.model_selection import train_test_split"
   ]
  },
  {
   "cell_type": "code",
   "execution_count": 105,
   "metadata": {},
   "outputs": [],
   "source": [
    "X_train, X_test, y_train, y_test = train_test_split(X, y, test_size=0.4, random_state=4)"
   ]
  },
  {
   "cell_type": "code",
   "execution_count": 107,
   "metadata": {},
   "outputs": [
    {
     "name": "stdout",
     "output_type": "stream",
     "text": [
      "(90, 4)\n",
      "(60, 4)\n",
      "(90,)\n",
      "(60,)\n"
     ]
    }
   ],
   "source": [
    "# print the shapes of the new X objects\n",
    "print(X_train.shape)\n",
    "print(X_test.shape)\n",
    "print(y_train.shape)\n",
    "print(y_test.shape)"
   ]
  },
  {
   "cell_type": "code",
   "execution_count": 108,
   "metadata": {},
   "outputs": [
    {
     "data": {
      "text/plain": [
       "LogisticRegression(C=1.0, class_weight=None, dual=False, fit_intercept=True,\n",
       "          intercept_scaling=1, max_iter=100, multi_class='ovr', n_jobs=1,\n",
       "          penalty='l2', random_state=None, solver='liblinear', tol=0.0001,\n",
       "          verbose=0, warm_start=False)"
      ]
     },
     "execution_count": 108,
     "metadata": {},
     "output_type": "execute_result"
    }
   ],
   "source": [
    "# STEP 2: train the model on the training set\n",
    "logreg = LogisticRegression()\n",
    "logreg.fit(X_train, y_train)"
   ]
  },
  {
   "cell_type": "code",
   "execution_count": 110,
   "metadata": {},
   "outputs": [],
   "source": [
    "y_pred = logreg.predict(X_test)"
   ]
  },
  {
   "cell_type": "code",
   "execution_count": 111,
   "metadata": {},
   "outputs": [
    {
     "name": "stdout",
     "output_type": "stream",
     "text": [
      "0.95\n"
     ]
    }
   ],
   "source": [
    "print(metrics.accuracy_score(y_test, y_pred))"
   ]
  },
  {
   "cell_type": "code",
   "execution_count": 112,
   "metadata": {},
   "outputs": [
    {
     "name": "stdout",
     "output_type": "stream",
     "text": [
      "0.95\n"
     ]
    }
   ],
   "source": [
    "knn = KNeighborsClassifier(n_neighbors=1)\n",
    "knn.fit(X_train, y_train)\n",
    "y_pred = knn.predict(X_test)\n",
    "print(metrics.accuracy_score(y_test, y_pred))"
   ]
  },
  {
   "cell_type": "code",
   "execution_count": 113,
   "metadata": {},
   "outputs": [
    {
     "name": "stdout",
     "output_type": "stream",
     "text": [
      "0.9666666666666667\n"
     ]
    }
   ],
   "source": [
    "knn = KNeighborsClassifier(n_neighbors=5)\n",
    "knn.fit(X_train, y_train)\n",
    "y_pred = knn.predict(X_test)\n",
    "print(metrics.accuracy_score(y_test, y_pred))"
   ]
  },
  {
   "cell_type": "code",
   "execution_count": 120,
   "metadata": {},
   "outputs": [],
   "source": [
    "preds = []\n",
    "for n in range(1, 50): \n",
    "    knn = KNeighborsClassifier(n_neighbors=n)\n",
    "    knn.fit(X_train, y_train)\n",
    "    y_pred = knn.predict(X_test)\n",
    "    #print(metrics.accuracy_score(y_test, y_pred))\n",
    "    preds.append(metrics.accuracy_score(y_test, y_pred))\n",
    "    "
   ]
  },
  {
   "cell_type": "code",
   "execution_count": 122,
   "metadata": {},
   "outputs": [
    {
     "data": {
      "text/plain": [
       "Text(0, 0.5, 'fraction of successful predictions')"
      ]
     },
     "execution_count": 122,
     "metadata": {},
     "output_type": "execute_result"
    },
    {
     "data": {
      "image/png": "[encoded data removed]",
      "text/plain": [
       "<Figure size 432x288 with 1 Axes>"
      ]
     },
     "metadata": {
      "needs_background": "light"
     },
     "output_type": "display_data"
    }
   ],
   "source": [
    "plt.plot(range(1, 50), preds, 'r-')\n",
    "plt.xlabel('number of neighbors')\n",
    "plt.ylabel('fraction of successful predictions')"
   ]
  },
  {
   "cell_type": "code",
   "execution_count": 123,
   "metadata": {},
   "outputs": [
    {
     "data": {
      "text/plain": [
       "0.9833333333333333"
      ]
     },
     "execution_count": 123,
     "metadata": {},
     "output_type": "execute_result"
    }
   ],
   "source": [
    "max(preds)"
   ]
  },
  {
   "cell_type": "code",
   "execution_count": 171,
   "metadata": {},
   "outputs": [],
   "source": [
    "k = np.asarray( list(zip(range(1,50), preds)) )"
   ]
  },
  {
   "cell_type": "markdown",
   "metadata": {},
   "source": [
    "### The first occurrance where the knn hits its maximum efficiency is when n_neighbors = 6, or k=6. "
   ]
  },
  {
   "cell_type": "code",
   "execution_count": 178,
   "metadata": {},
   "outputs": [
    {
     "data": {
      "text/plain": [
       "array([[ 6.        ,  0.98333333],\n",
       "       [ 7.        ,  0.98333333],\n",
       "       [ 8.        ,  0.98333333],\n",
       "       [ 9.        ,  0.98333333],\n",
       "       [10.        ,  0.98333333],\n",
       "       [11.        ,  0.98333333],\n",
       "       [12.        ,  0.98333333],\n",
       "       [13.        ,  0.98333333],\n",
       "       [14.        ,  0.98333333],\n",
       "       [15.        ,  0.98333333],\n",
       "       [16.        ,  0.98333333],\n",
       "       [17.        ,  0.98333333],\n",
       "       [19.        ,  0.98333333],\n",
       "       [36.        ,  0.98333333],\n",
       "       [37.        ,  0.98333333]])"
      ]
     },
     "execution_count": 178,
     "metadata": {},
     "output_type": "execute_result"
    }
   ],
   "source": [
    "k[ k[:,1] == max(preds)]"
   ]
  },
  {
   "cell_type": "code",
   "execution_count": null,
   "metadata": {},
   "outputs": [],
   "source": []
  },
  {
   "cell_type": "code",
   "execution_count": null,
   "metadata": {},
   "outputs": [],
   "source": []
  },
  {
   "cell_type": "code",
   "execution_count": null,
   "metadata": {},
   "outputs": [],
   "source": []
  },
  {
   "cell_type": "code",
   "execution_count": null,
   "metadata": {},
   "outputs": [],
   "source": []
  },
  {
   "cell_type": "code",
   "execution_count": null,
   "metadata": {},
   "outputs": [],
   "source": []
  },
  {
   "cell_type": "code",
   "execution_count": null,
   "metadata": {},
   "outputs": [],
   "source": []
  },
  {
   "cell_type": "code",
   "execution_count": null,
   "metadata": {},
   "outputs": [],
   "source": []
  }
 ],
 "metadata": {
  "kernelspec": {
   "display_name": "Python 3",
   "language": "python",
   "name": "python3"
  },
  "language_info": {
   "codemirror_mode": {
    "name": "ipython",
    "version": 3
   },
   "file_extension": ".py",
   "mimetype": "text/x-python",
   "name": "python",
   "nbconvert_exporter": "python",
   "pygments_lexer": "ipython3",
   "version": "3.7.0"
  }
 },
 "nbformat": 4,
 "nbformat_minor": 2
}
