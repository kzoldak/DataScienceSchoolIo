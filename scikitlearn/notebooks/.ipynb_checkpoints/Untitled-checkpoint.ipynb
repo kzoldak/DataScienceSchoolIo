{
 "cells": [
  {
   "cell_type": "markdown",
   "metadata": {},
   "source": [
    "http://www.aishack.in/tutorials/generating-multivariate-gaussian-random/"
   ]
  },
  {
   "cell_type": "code",
   "execution_count": 4,
   "metadata": {},
   "outputs": [],
   "source": [
    "import numpy as np\n",
    "import math\n",
    "import matplotlib.pyplot as plt\n",
    "%matplotlib inline"
   ]
  },
  {
   "cell_type": "raw",
   "metadata": {},
   "source": [
    "from scipy.stats import multivariate_normal"
   ]
  },
  {
   "cell_type": "code",
   "execution_count": 8,
   "metadata": {},
   "outputs": [],
   "source": [
    "def get_gaussian_random():\n",
    "    m = 0\n",
    "    while m == 0:\n",
    "        m = round(np.random.random() * 100)\n",
    "    \n",
    "    numbers = np.random.random(int(m)) # m random numbers\n",
    "    summation = float(np.sum(numbers)) # sum, central limit theorem\n",
    "    gaussian = (summation - m/2) / math.sqrt(m/12.0) # put numbers together and return gaussian\n",
    "    return gaussian"
   ]
  },
  {
   "cell_type": "code",
   "execution_count": 13,
   "metadata": {},
   "outputs": [],
   "source": [
    "def generate_known_gaussian(dimensions):\n",
    "    count = 1000\n",
    "\n",
    "    ret = []\n",
    "    for i in range(count):\n",
    "        current_vector = []\n",
    "        for j in range(dimensions):\n",
    "            g = get_gaussian_random()\n",
    "            current_vector.append(g)\n",
    "\n",
    "        ret.append( tuple(current_vector) )\n",
    "\n",
    "    return ret"
   ]
  },
  {
   "cell_type": "raw",
   "metadata": {},
   "source": [
    "The known multivariate Gaussian distribution in two dimensions N(0, 1)"
   ]
  },
  {
   "cell_type": "code",
   "execution_count": 14,
   "metadata": {},
   "outputs": [],
   "source": [
    "def main():\n",
    "    known = generate_known_gaussian(2)\n",
    "    \n",
    "    target_mean = np.matrix([ [1.0], [5.0]])\n",
    "    \n",
    "    target_cov  = np.matrix([[  1.0, 0.7], \n",
    "                             [  0.7, 0.6]])\n",
    "\n",
    "    [eigenvalues, eigenvectors] = np.linalg.eig(target_cov)\n",
    "    \n",
    "    l = np.matrix(np.diag(np.sqrt(eigenvalues)))\n",
    "    Q = np.matrix(eigenvectors) * l\n",
    "    \n",
    "    x1_tweaked = []\n",
    "    x2_tweaked = []\n",
    "    tweaked_all = []\n",
    "    \n",
    "    for i, j in known:\n",
    "        original = np.matrix( [[i], [j]]).copy()\n",
    "        tweaked = (Q * original) + target_mean\n",
    "        x1_tweaked.append(float(tweaked[0]))\n",
    "        x2_tweaked.append(float(tweaked[1]))\n",
    "        tweaked_all.append( tweaked )\n",
    "    plt.scatter(x1_tweaked, x2_tweaked)\n",
    "    plt.axis([-6, 10, -6, 10])\n",
    "    plt.hlines(0, -6, 10)\n",
    "    plt.vlines(0, -6, 10)\n",
    "    plt.show()"
   ]
  },
  {
   "cell_type": "code",
   "execution_count": 16,
   "metadata": {},
   "outputs": [
    {
     "data": {
      "image/png": "[encoded data removed]",
      "text/plain": [
       "<Figure size 432x288 with 1 Axes>"
      ]
     },
     "metadata": {
      "needs_background": "light"
     },
     "output_type": "display_data"
    }
   ],
   "source": [
    "if __name__ == \"__main__\":\n",
    "    main()\n",
    "        "
   ]
  },
  {
   "cell_type": "code",
   "execution_count": null,
   "metadata": {},
   "outputs": [],
   "source": []
  }
 ],
 "metadata": {
  "kernelspec": {
   "display_name": "Python 3",
   "language": "python",
   "name": "python3"
  },
  "language_info": {
   "codemirror_mode": {
    "name": "ipython",
    "version": 3
   },
   "file_extension": ".py",
   "mimetype": "text/x-python",
   "name": "python",
   "nbconvert_exporter": "python",
   "pygments_lexer": "ipython3",
   "version": "3.7.0"
  }
 },
 "nbformat": 4,
 "nbformat_minor": 2
}
